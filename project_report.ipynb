{
 "cells": [
  {
   "cell_type": "markdown",
   "id": "f9ec6552-9137-486e-8e80-49c8225c8aa0",
   "metadata": {},
   "source": [
    "# Vinho Verde: Wine Quality Analysis"
   ]
  },
  {
   "cell_type": "markdown",
   "id": "ba989799-b6e2-4e66-8ac2-59f95181ac29",
   "metadata": {},
   "source": [
    "## Introduction\n",
    "\n",
    "Wine is an alcoholic beverage made from the fermentation of grape juice, with many factors determining its quality. Wine without any acidity is “flat”, hence a fixed acidity level. Volatile acidity is the measure of acetic acid in wine, if it is above a threshold the wine will taste sour, citric acid enhances the flavour, residual sugar in wine is leftover sugar from grapes; higher sugar levels increase sweetness, and chloride contributes to saltiness in wine. \n",
    "\n",
    "**The main question we are answering is: What produces the highest quality of wine given our predictors, (VA, citric acidity, residual sugar, chloride, sulfur dioxide, and sulphate)?**\n",
    "\n",
    "The dataset used is collected by Paulo Cortez, from the University of Minho in Portugal. He, along with A. Cerdeira, F. Almeida, T. Matos, and J. Reis, Viticulture Commission of the Vinho Verde Region(CVRVV), Porto, Portugal collected data about the Vinho Verde wines from Portugal. This dataset (from 2009) observes the physicochemical qualities of the wine (acidity, sulphates, etc.), and excludes grape type, wine brand, or other subjective qualities.\n",
    "\n",
    "**Citation:**\n",
    "\n",
    "P. Cortez, A. Cerdeira, F. Almeida, T. Matos, and J. Reis.\n",
    "Modeling wine preferences by data mining from physicochemical properties. In Decision Support Systems, Elsevier, 47(4):547-553, 2009"
   ]
  },
  {
   "cell_type": "markdown",
   "id": "19cc8157-7c97-4caf-89fd-9625b72fad06",
   "metadata": {},
   "source": [
    "## Preliminary exploratory data analysis"
   ]
  },
  {
   "cell_type": "code",
   "execution_count": 1,
   "id": "d2e1c0b6-e26c-4289-a56f-cfd72c7c685e",
   "metadata": {},
   "outputs": [
    {
     "name": "stderr",
     "output_type": "stream",
     "text": [
      "── \u001b[1mAttaching packages\u001b[22m ─────────────────────────────────────── tidyverse 1.3.1 ──\n",
      "\n",
      "\u001b[32m✔\u001b[39m \u001b[34mggplot2\u001b[39m 3.3.6     \u001b[32m✔\u001b[39m \u001b[34mpurrr  \u001b[39m 0.3.4\n",
      "\u001b[32m✔\u001b[39m \u001b[34mtibble \u001b[39m 3.1.7     \u001b[32m✔\u001b[39m \u001b[34mdplyr  \u001b[39m 1.0.9\n",
      "\u001b[32m✔\u001b[39m \u001b[34mtidyr  \u001b[39m 1.2.0     \u001b[32m✔\u001b[39m \u001b[34mstringr\u001b[39m 1.4.0\n",
      "\u001b[32m✔\u001b[39m \u001b[34mreadr  \u001b[39m 2.1.2     \u001b[32m✔\u001b[39m \u001b[34mforcats\u001b[39m 0.5.1\n",
      "\n",
      "── \u001b[1mConflicts\u001b[22m ────────────────────────────────────────── tidyverse_conflicts() ──\n",
      "\u001b[31m✖\u001b[39m \u001b[34mdplyr\u001b[39m::\u001b[32mfilter()\u001b[39m masks \u001b[34mstats\u001b[39m::filter()\n",
      "\u001b[31m✖\u001b[39m \u001b[34mdplyr\u001b[39m::\u001b[32mlag()\u001b[39m    masks \u001b[34mstats\u001b[39m::lag()\n",
      "\n",
      "── \u001b[1mAttaching packages\u001b[22m ────────────────────────────────────── tidymodels 1.0.0 ──\n",
      "\n",
      "\u001b[32m✔\u001b[39m \u001b[34mbroom       \u001b[39m 1.0.0     \u001b[32m✔\u001b[39m \u001b[34mrsample     \u001b[39m 1.0.0\n",
      "\u001b[32m✔\u001b[39m \u001b[34mdials       \u001b[39m 1.0.0     \u001b[32m✔\u001b[39m \u001b[34mtune        \u001b[39m 1.0.0\n",
      "\u001b[32m✔\u001b[39m \u001b[34minfer       \u001b[39m 1.0.2     \u001b[32m✔\u001b[39m \u001b[34mworkflows   \u001b[39m 1.0.0\n",
      "\u001b[32m✔\u001b[39m \u001b[34mmodeldata   \u001b[39m 1.0.0     \u001b[32m✔\u001b[39m \u001b[34mworkflowsets\u001b[39m 1.0.0\n",
      "\u001b[32m✔\u001b[39m \u001b[34mparsnip     \u001b[39m 1.0.0     \u001b[32m✔\u001b[39m \u001b[34myardstick   \u001b[39m 1.0.0\n",
      "\u001b[32m✔\u001b[39m \u001b[34mrecipes     \u001b[39m 1.0.1     \n",
      "\n",
      "── \u001b[1mConflicts\u001b[22m ───────────────────────────────────────── tidymodels_conflicts() ──\n",
      "\u001b[31m✖\u001b[39m \u001b[34mscales\u001b[39m::\u001b[32mdiscard()\u001b[39m masks \u001b[34mpurrr\u001b[39m::discard()\n",
      "\u001b[31m✖\u001b[39m \u001b[34mdplyr\u001b[39m::\u001b[32mfilter()\u001b[39m   masks \u001b[34mstats\u001b[39m::filter()\n",
      "\u001b[31m✖\u001b[39m \u001b[34mrecipes\u001b[39m::\u001b[32mfixed()\u001b[39m  masks \u001b[34mstringr\u001b[39m::fixed()\n",
      "\u001b[31m✖\u001b[39m \u001b[34mdplyr\u001b[39m::\u001b[32mlag()\u001b[39m      masks \u001b[34mstats\u001b[39m::lag()\n",
      "\u001b[31m✖\u001b[39m \u001b[34myardstick\u001b[39m::\u001b[32mspec()\u001b[39m masks \u001b[34mreadr\u001b[39m::spec()\n",
      "\u001b[31m✖\u001b[39m \u001b[34mrecipes\u001b[39m::\u001b[32mstep()\u001b[39m   masks \u001b[34mstats\u001b[39m::step()\n",
      "\u001b[34m•\u001b[39m Use suppressPackageStartupMessages() to eliminate package startup messages\n",
      "\n"
     ]
    }
   ],
   "source": [
    "library(tidyverse)\n",
    "library(digest)\n",
    "library(repr)\n",
    "library(tidymodels)\n",
    "library(cowplot)\n",
    "options(repr.matrix.max.rows = 4)\n",
    "set.seed(10000)"
   ]
  },
  {
   "cell_type": "markdown",
   "id": "bbd05844-0a1c-47f1-b097-d65b095950c2",
   "metadata": {},
   "source": [
    "We use the `read_csv2()` function to read the file from the web."
   ]
  },
  {
   "cell_type": "code",
   "execution_count": 2,
   "id": "9e774255-ae37-45ee-9df2-8fb292e809a8",
   "metadata": {},
   "outputs": [
    {
     "name": "stderr",
     "output_type": "stream",
     "text": [
      "\u001b[36mℹ\u001b[39m Using \u001b[34m\u001b[34m\"','\"\u001b[34m\u001b[39m as decimal and \u001b[34m\u001b[34m\"'.'\"\u001b[34m\u001b[39m as grouping mark. Use `read_delim()` for more control.\n",
      "\n",
      "Warning message:\n",
      "“One or more parsing issues, see `problems()` for details”\n",
      "\u001b[1mRows: \u001b[22m\u001b[34m1599\u001b[39m \u001b[1mColumns: \u001b[22m\u001b[34m12\u001b[39m\n",
      "\u001b[36m──\u001b[39m \u001b[1mColumn specification\u001b[22m \u001b[36m────────────────────────────────────────────────────────\u001b[39m\n",
      "\u001b[1mDelimiter:\u001b[22m \";\"\n",
      "\u001b[31mchr\u001b[39m (5): volatile acidity, citric acid, chlorides, density, sulphates\n",
      "\u001b[32mdbl\u001b[39m (2): total sulfur dioxide, quality\n",
      "\n",
      "\u001b[36mℹ\u001b[39m Use `spec()` to retrieve the full column specification for this data.\n",
      "\u001b[36mℹ\u001b[39m Specify the column types or set `show_col_types = FALSE` to quiet this message.\n"
     ]
    }
   ],
   "source": [
    "url <- \"https://archive.ics.uci.edu/ml/machine-learning-databases/wine-quality/winequality-red.csv\"\n",
    "wine_red <- read_csv2(url)"
   ]
  },
  {
   "cell_type": "markdown",
   "id": "7fbb167a-0991-47c4-b53b-d18967d1c0dd",
   "metadata": {},
   "source": [
    "We clean the column names to remove spaces using `make.names`, then change the datatypes of columns to dbl using `mutate()` and `as.double()` and finally remove the columns we dont wish to use using `select()`."
   ]
  },
  {
   "cell_type": "code",
   "execution_count": 3,
   "id": "9a56bce4-dcf3-44aa-8c86-91719ec3d8e6",
   "metadata": {},
   "outputs": [
    {
     "data": {
      "text/html": [
       "<table class=\"dataframe\">\n",
       "<caption>A tibble: 1599 × 8</caption>\n",
       "<thead>\n",
       "\t<tr><th scope=col>fixed.acidity</th><th scope=col>volatile.acidity</th><th scope=col>citric.acid</th><th scope=col>residual.sugar</th><th scope=col>chlorides</th><th scope=col>free.sulfur.dioxide</th><th scope=col>sulphates</th><th scope=col>quality</th></tr>\n",
       "\t<tr><th scope=col>&lt;dbl&gt;</th><th scope=col>&lt;dbl&gt;</th><th scope=col>&lt;dbl&gt;</th><th scope=col>&lt;dbl&gt;</th><th scope=col>&lt;dbl&gt;</th><th scope=col>&lt;dbl&gt;</th><th scope=col>&lt;dbl&gt;</th><th scope=col>&lt;fct&gt;</th></tr>\n",
       "</thead>\n",
       "<tbody>\n",
       "\t<tr><td>74</td><td>0.70</td><td>0</td><td>19</td><td>0.076</td><td>11</td><td>0.56</td><td>5</td></tr>\n",
       "\t<tr><td>78</td><td>0.88</td><td>0</td><td>26</td><td>0.098</td><td>25</td><td>0.68</td><td>5</td></tr>\n",
       "\t<tr><td>⋮</td><td>⋮</td><td>⋮</td><td>⋮</td><td>⋮</td><td>⋮</td><td>⋮</td><td>⋮</td></tr>\n",
       "\t<tr><td>59</td><td>0.645</td><td>0.12</td><td> 2</td><td>0.075</td><td>32</td><td>0.71</td><td>5</td></tr>\n",
       "\t<tr><td> 6</td><td>0.310</td><td>0.47</td><td>36</td><td>0.067</td><td>18</td><td>0.66</td><td>6</td></tr>\n",
       "</tbody>\n",
       "</table>\n"
      ],
      "text/latex": [
       "A tibble: 1599 × 8\n",
       "\\begin{tabular}{llllllll}\n",
       " fixed.acidity & volatile.acidity & citric.acid & residual.sugar & chlorides & free.sulfur.dioxide & sulphates & quality\\\\\n",
       " <dbl> & <dbl> & <dbl> & <dbl> & <dbl> & <dbl> & <dbl> & <fct>\\\\\n",
       "\\hline\n",
       "\t 74 & 0.70 & 0 & 19 & 0.076 & 11 & 0.56 & 5\\\\\n",
       "\t 78 & 0.88 & 0 & 26 & 0.098 & 25 & 0.68 & 5\\\\\n",
       "\t ⋮ & ⋮ & ⋮ & ⋮ & ⋮ & ⋮ & ⋮ & ⋮\\\\\n",
       "\t 59 & 0.645 & 0.12 &  2 & 0.075 & 32 & 0.71 & 5\\\\\n",
       "\t  6 & 0.310 & 0.47 & 36 & 0.067 & 18 & 0.66 & 6\\\\\n",
       "\\end{tabular}\n"
      ],
      "text/markdown": [
       "\n",
       "A tibble: 1599 × 8\n",
       "\n",
       "| fixed.acidity &lt;dbl&gt; | volatile.acidity &lt;dbl&gt; | citric.acid &lt;dbl&gt; | residual.sugar &lt;dbl&gt; | chlorides &lt;dbl&gt; | free.sulfur.dioxide &lt;dbl&gt; | sulphates &lt;dbl&gt; | quality &lt;fct&gt; |\n",
       "|---|---|---|---|---|---|---|---|\n",
       "| 74 | 0.70 | 0 | 19 | 0.076 | 11 | 0.56 | 5 |\n",
       "| 78 | 0.88 | 0 | 26 | 0.098 | 25 | 0.68 | 5 |\n",
       "| ⋮ | ⋮ | ⋮ | ⋮ | ⋮ | ⋮ | ⋮ | ⋮ |\n",
       "| 59 | 0.645 | 0.12 |  2 | 0.075 | 32 | 0.71 | 5 |\n",
       "|  6 | 0.310 | 0.47 | 36 | 0.067 | 18 | 0.66 | 6 |\n",
       "\n"
      ],
      "text/plain": [
       "     fixed.acidity volatile.acidity citric.acid residual.sugar chlorides\n",
       "1    74            0.70             0           19             0.076    \n",
       "2    78            0.88             0           26             0.098    \n",
       "⋮    ⋮             ⋮                ⋮           ⋮              ⋮        \n",
       "1598 59            0.645            0.12         2             0.075    \n",
       "1599  6            0.310            0.47        36             0.067    \n",
       "     free.sulfur.dioxide sulphates quality\n",
       "1    11                  0.56      5      \n",
       "2    25                  0.68      5      \n",
       "⋮    ⋮                   ⋮         ⋮      \n",
       "1598 32                  0.71      5      \n",
       "1599 18                  0.66      6      "
      ]
     },
     "metadata": {},
     "output_type": "display_data"
    }
   ],
   "source": [
    "colnames(wine_red) <- make.names(colnames(wine_red))\n",
    "\n",
    "wine_red <- wine_red |>\n",
    "            mutate(across(fixed.acidity:sulphates, as.double), quality = as.factor(quality)) |>\n",
    "            select(-total.sulfur.dioxide, -pH, -alcohol, -density)\n",
    "\n",
    "wine_red"
   ]
  },
  {
   "cell_type": "markdown",
   "id": "2a0bbf6e-4f24-457c-8096-8b18eb5ac5c2",
   "metadata": {},
   "source": [
    "Splitting the dataset into training and testing sets."
   ]
  },
  {
   "cell_type": "code",
   "execution_count": 4,
   "id": "d311d080-94dd-4b03-9f09-2f41d618d187",
   "metadata": {},
   "outputs": [
    {
     "data": {
      "text/html": [
       "<table class=\"dataframe\">\n",
       "<caption>A tibble: 1198 × 8</caption>\n",
       "<thead>\n",
       "\t<tr><th scope=col>fixed.acidity</th><th scope=col>volatile.acidity</th><th scope=col>citric.acid</th><th scope=col>residual.sugar</th><th scope=col>chlorides</th><th scope=col>free.sulfur.dioxide</th><th scope=col>sulphates</th><th scope=col>quality</th></tr>\n",
       "\t<tr><th scope=col>&lt;dbl&gt;</th><th scope=col>&lt;dbl&gt;</th><th scope=col>&lt;dbl&gt;</th><th scope=col>&lt;dbl&gt;</th><th scope=col>&lt;dbl&gt;</th><th scope=col>&lt;dbl&gt;</th><th scope=col>&lt;dbl&gt;</th><th scope=col>&lt;fct&gt;</th></tr>\n",
       "</thead>\n",
       "<tbody>\n",
       "\t<tr><td>74</td><td>0.70</td><td>0.00</td><td>19</td><td>0.076</td><td>11</td><td>0.56</td><td>5</td></tr>\n",
       "\t<tr><td>78</td><td>0.76</td><td>0.04</td><td>23</td><td>0.092</td><td>15</td><td>0.65</td><td>5</td></tr>\n",
       "\t<tr><td>⋮</td><td>⋮</td><td>⋮</td><td>⋮</td><td>⋮</td><td>⋮</td><td>⋮</td><td>⋮</td></tr>\n",
       "\t<tr><td>74</td><td>0.25</td><td>0.29</td><td>22</td><td>0.054</td><td>19</td><td>0.76</td><td>7</td></tr>\n",
       "\t<tr><td> 7</td><td>0.56</td><td>0.17</td><td>17</td><td>0.065</td><td>15</td><td>0.68</td><td>7</td></tr>\n",
       "</tbody>\n",
       "</table>\n"
      ],
      "text/latex": [
       "A tibble: 1198 × 8\n",
       "\\begin{tabular}{llllllll}\n",
       " fixed.acidity & volatile.acidity & citric.acid & residual.sugar & chlorides & free.sulfur.dioxide & sulphates & quality\\\\\n",
       " <dbl> & <dbl> & <dbl> & <dbl> & <dbl> & <dbl> & <dbl> & <fct>\\\\\n",
       "\\hline\n",
       "\t 74 & 0.70 & 0.00 & 19 & 0.076 & 11 & 0.56 & 5\\\\\n",
       "\t 78 & 0.76 & 0.04 & 23 & 0.092 & 15 & 0.65 & 5\\\\\n",
       "\t ⋮ & ⋮ & ⋮ & ⋮ & ⋮ & ⋮ & ⋮ & ⋮\\\\\n",
       "\t 74 & 0.25 & 0.29 & 22 & 0.054 & 19 & 0.76 & 7\\\\\n",
       "\t  7 & 0.56 & 0.17 & 17 & 0.065 & 15 & 0.68 & 7\\\\\n",
       "\\end{tabular}\n"
      ],
      "text/markdown": [
       "\n",
       "A tibble: 1198 × 8\n",
       "\n",
       "| fixed.acidity &lt;dbl&gt; | volatile.acidity &lt;dbl&gt; | citric.acid &lt;dbl&gt; | residual.sugar &lt;dbl&gt; | chlorides &lt;dbl&gt; | free.sulfur.dioxide &lt;dbl&gt; | sulphates &lt;dbl&gt; | quality &lt;fct&gt; |\n",
       "|---|---|---|---|---|---|---|---|\n",
       "| 74 | 0.70 | 0.00 | 19 | 0.076 | 11 | 0.56 | 5 |\n",
       "| 78 | 0.76 | 0.04 | 23 | 0.092 | 15 | 0.65 | 5 |\n",
       "| ⋮ | ⋮ | ⋮ | ⋮ | ⋮ | ⋮ | ⋮ | ⋮ |\n",
       "| 74 | 0.25 | 0.29 | 22 | 0.054 | 19 | 0.76 | 7 |\n",
       "|  7 | 0.56 | 0.17 | 17 | 0.065 | 15 | 0.68 | 7 |\n",
       "\n"
      ],
      "text/plain": [
       "     fixed.acidity volatile.acidity citric.acid residual.sugar chlorides\n",
       "1    74            0.70             0.00        19             0.076    \n",
       "2    78            0.76             0.04        23             0.092    \n",
       "⋮    ⋮             ⋮                ⋮           ⋮              ⋮        \n",
       "1197 74            0.25             0.29        22             0.054    \n",
       "1198  7            0.56             0.17        17             0.065    \n",
       "     free.sulfur.dioxide sulphates quality\n",
       "1    11                  0.56      5      \n",
       "2    15                  0.65      5      \n",
       "⋮    ⋮                   ⋮         ⋮      \n",
       "1197 19                  0.76      7      \n",
       "1198 15                  0.68      7      "
      ]
     },
     "metadata": {},
     "output_type": "display_data"
    }
   ],
   "source": [
    "wine_split <- initial_split(wine_red, prop = 0.75, strata = quality)\n",
    "wine_train <- training(wine_split)\n",
    "wine_test <- testing(wine_split)\n",
    "\n",
    "wine_train"
   ]
  },
  {
   "cell_type": "markdown",
   "id": "7c01e412-9717-4884-b964-8c8e831a6872",
   "metadata": {},
   "source": [
    "**1.**\n",
    "Checking how many NA values are present in each column using the `apply()` function. "
   ]
  },
  {
   "cell_type": "code",
   "execution_count": 5,
   "id": "7048d3b7-84db-446f-ad2a-05c56d55597f",
   "metadata": {},
   "outputs": [
    {
     "data": {
      "text/html": [
       "<style>\n",
       ".dl-inline {width: auto; margin:0; padding: 0}\n",
       ".dl-inline>dt, .dl-inline>dd {float: none; width: auto; display: inline-block}\n",
       ".dl-inline>dt::after {content: \":\\0020\"; padding-right: .5ex}\n",
       ".dl-inline>dt:not(:first-of-type) {padding-left: .5ex}\n",
       "</style><dl class=dl-inline><dt>fixed.acidity</dt><dd>0</dd><dt>volatile.acidity</dt><dd>0</dd><dt>citric.acid</dt><dd>0</dd><dt>residual.sugar</dt><dd>0</dd><dt>chlorides</dt><dd>0</dd><dt>free.sulfur.dioxide</dt><dd>0</dd><dt>sulphates</dt><dd>0</dd><dt>quality</dt><dd>0</dd></dl>\n"
      ],
      "text/latex": [
       "\\begin{description*}\n",
       "\\item[fixed.acidity] 0\n",
       "\\item[volatile.acidity] 0\n",
       "\\item[citric.acid] 0\n",
       "\\item[residual.sugar] 0\n",
       "\\item[chlorides] 0\n",
       "\\item[free.sulfur.dioxide] 0\n",
       "\\item[sulphates] 0\n",
       "\\item[quality] 0\n",
       "\\end{description*}\n"
      ],
      "text/markdown": [
       "fixed.acidity\n",
       ":   0volatile.acidity\n",
       ":   0citric.acid\n",
       ":   0residual.sugar\n",
       ":   0chlorides\n",
       ":   0free.sulfur.dioxide\n",
       ":   0sulphates\n",
       ":   0quality\n",
       ":   0\n",
       "\n"
      ],
      "text/plain": [
       "      fixed.acidity    volatile.acidity         citric.acid      residual.sugar \n",
       "                  0                   0                   0                   0 \n",
       "          chlorides free.sulfur.dioxide           sulphates             quality \n",
       "                  0                   0                   0                   0 "
      ]
     },
     "metadata": {},
     "output_type": "display_data"
    }
   ],
   "source": [
    "apply(X = is.na(wine_train), MARGIN = 2, FUN = sum)"
   ]
  },
  {
   "cell_type": "markdown",
   "id": "be48a438-3bae-4192-b374-57b859203fdc",
   "metadata": {},
   "source": [
    "Since there are no NA values in any of the columns, it is clear that all columns have 1197 rows of observations."
   ]
  },
  {
   "cell_type": "markdown",
   "id": "eaedb319-7db1-422f-be42-adfc996e5a50",
   "metadata": {},
   "source": [
    "**2.**\n",
    "Summarizing the means and ranges of all variables using `summarize()` and `map_df()`."
   ]
  },
  {
   "cell_type": "code",
   "execution_count": 6,
   "id": "ab67e2f7-37ba-4da0-b6ff-c51dfdee1388",
   "metadata": {},
   "outputs": [
    {
     "data": {
      "text/html": [
       "<table class=\"dataframe\">\n",
       "<caption>A tibble: 1 × 7</caption>\n",
       "<thead>\n",
       "\t<tr><th scope=col>fixed.acidity</th><th scope=col>volatile.acidity</th><th scope=col>citric.acid</th><th scope=col>residual.sugar</th><th scope=col>chlorides</th><th scope=col>free.sulfur.dioxide</th><th scope=col>sulphates</th></tr>\n",
       "\t<tr><th scope=col>&lt;dbl&gt;</th><th scope=col>&lt;dbl&gt;</th><th scope=col>&lt;dbl&gt;</th><th scope=col>&lt;dbl&gt;</th><th scope=col>&lt;dbl&gt;</th><th scope=col>&lt;dbl&gt;</th><th scope=col>&lt;dbl&gt;</th></tr>\n",
       "</thead>\n",
       "<tbody>\n",
       "\t<tr><td>74.72705</td><td>0.5282805</td><td>0.2690234</td><td>26.11853</td><td>0.08737145</td><td>16.4424</td><td>0.656803</td></tr>\n",
       "</tbody>\n",
       "</table>\n"
      ],
      "text/latex": [
       "A tibble: 1 × 7\n",
       "\\begin{tabular}{lllllll}\n",
       " fixed.acidity & volatile.acidity & citric.acid & residual.sugar & chlorides & free.sulfur.dioxide & sulphates\\\\\n",
       " <dbl> & <dbl> & <dbl> & <dbl> & <dbl> & <dbl> & <dbl>\\\\\n",
       "\\hline\n",
       "\t 74.72705 & 0.5282805 & 0.2690234 & 26.11853 & 0.08737145 & 16.4424 & 0.656803\\\\\n",
       "\\end{tabular}\n"
      ],
      "text/markdown": [
       "\n",
       "A tibble: 1 × 7\n",
       "\n",
       "| fixed.acidity &lt;dbl&gt; | volatile.acidity &lt;dbl&gt; | citric.acid &lt;dbl&gt; | residual.sugar &lt;dbl&gt; | chlorides &lt;dbl&gt; | free.sulfur.dioxide &lt;dbl&gt; | sulphates &lt;dbl&gt; |\n",
       "|---|---|---|---|---|---|---|\n",
       "| 74.72705 | 0.5282805 | 0.2690234 | 26.11853 | 0.08737145 | 16.4424 | 0.656803 |\n",
       "\n"
      ],
      "text/plain": [
       "  fixed.acidity volatile.acidity citric.acid residual.sugar chlorides \n",
       "1 74.72705      0.5282805        0.2690234   26.11853       0.08737145\n",
       "  free.sulfur.dioxide sulphates\n",
       "1 16.4424             0.656803 "
      ]
     },
     "metadata": {},
     "output_type": "display_data"
    },
    {
     "data": {
      "text/html": [
       "<table class=\"dataframe\">\n",
       "<caption>A tibble: 2 × 7</caption>\n",
       "<thead>\n",
       "\t<tr><th scope=col>fixed.acidity</th><th scope=col>volatile.acidity</th><th scope=col>citric.acid</th><th scope=col>residual.sugar</th><th scope=col>chlorides</th><th scope=col>free.sulfur.dioxide</th><th scope=col>sulphates</th></tr>\n",
       "\t<tr><th scope=col>&lt;dbl&gt;</th><th scope=col>&lt;dbl&gt;</th><th scope=col>&lt;dbl&gt;</th><th scope=col>&lt;dbl&gt;</th><th scope=col>&lt;dbl&gt;</th><th scope=col>&lt;dbl&gt;</th><th scope=col>&lt;dbl&gt;</th></tr>\n",
       "</thead>\n",
       "<tbody>\n",
       "\t<tr><td>  5</td><td>0.12</td><td>0</td><td>  2</td><td>0.012</td><td>  1</td><td>0.33</td></tr>\n",
       "\t<tr><td>159</td><td>1.33</td><td>1</td><td>655</td><td>0.611</td><td>375</td><td>2.00</td></tr>\n",
       "</tbody>\n",
       "</table>\n"
      ],
      "text/latex": [
       "A tibble: 2 × 7\n",
       "\\begin{tabular}{lllllll}\n",
       " fixed.acidity & volatile.acidity & citric.acid & residual.sugar & chlorides & free.sulfur.dioxide & sulphates\\\\\n",
       " <dbl> & <dbl> & <dbl> & <dbl> & <dbl> & <dbl> & <dbl>\\\\\n",
       "\\hline\n",
       "\t   5 & 0.12 & 0 &   2 & 0.012 &   1 & 0.33\\\\\n",
       "\t 159 & 1.33 & 1 & 655 & 0.611 & 375 & 2.00\\\\\n",
       "\\end{tabular}\n"
      ],
      "text/markdown": [
       "\n",
       "A tibble: 2 × 7\n",
       "\n",
       "| fixed.acidity &lt;dbl&gt; | volatile.acidity &lt;dbl&gt; | citric.acid &lt;dbl&gt; | residual.sugar &lt;dbl&gt; | chlorides &lt;dbl&gt; | free.sulfur.dioxide &lt;dbl&gt; | sulphates &lt;dbl&gt; |\n",
       "|---|---|---|---|---|---|---|\n",
       "|   5 | 0.12 | 0 |   2 | 0.012 |   1 | 0.33 |\n",
       "| 159 | 1.33 | 1 | 655 | 0.611 | 375 | 2.00 |\n",
       "\n"
      ],
      "text/plain": [
       "  fixed.acidity volatile.acidity citric.acid residual.sugar chlorides\n",
       "1   5           0.12             0             2            0.012    \n",
       "2 159           1.33             1           655            0.611    \n",
       "  free.sulfur.dioxide sulphates\n",
       "1   1                 0.33     \n",
       "2 375                 2.00     "
      ]
     },
     "metadata": {},
     "output_type": "display_data"
    }
   ],
   "source": [
    "# mean_summary <- summarize(wine_train, across(fixed.acidity:sulphates, mean))\n",
    "mean_summary <- wine_train |>\n",
    "                select(-quality) |>\n",
    "                map_df(mean)\n",
    "\n",
    "range_summary <- summarize(wine_train, across(fixed.acidity:sulphates, range))\n",
    "\n",
    "mean_summary\n",
    "range_summary"
   ]
  },
  {
   "cell_type": "markdown",
   "id": "5b80cbf3-8ffd-472b-91ae-f9690127d843",
   "metadata": {},
   "source": [
    "The range data gives us the minimum and maximum values for each column in the database."
   ]
  },
  {
   "cell_type": "markdown",
   "id": "3c28fb49-0cde-450a-9af7-5764cd554ad6",
   "metadata": {},
   "source": [
    "**3.**\n",
    "Finding out means of predictors that correspond to each level in the quality scale. This will help us later to check if our prediction of wine quality makes logical sense."
   ]
  },
  {
   "cell_type": "code",
   "execution_count": 7,
   "id": "d12c15b0-c8d7-4474-985b-0aca6a62eef7",
   "metadata": {},
   "outputs": [
    {
     "data": {
      "text/html": [
       "<table class=\"dataframe\">\n",
       "<caption>A tibble: 6 × 8</caption>\n",
       "<thead>\n",
       "\t<tr><th scope=col>quality</th><th scope=col>fixed.acidity</th><th scope=col>volatile.acidity</th><th scope=col>citric.acid</th><th scope=col>residual.sugar</th><th scope=col>chlorides</th><th scope=col>free.sulfur.dioxide</th><th scope=col>sulphates</th></tr>\n",
       "\t<tr><th scope=col>&lt;fct&gt;</th><th scope=col>&lt;dbl&gt;</th><th scope=col>&lt;dbl&gt;</th><th scope=col>&lt;dbl&gt;</th><th scope=col>&lt;dbl&gt;</th><th scope=col>&lt;dbl&gt;</th><th scope=col>&lt;dbl&gt;</th><th scope=col>&lt;dbl&gt;</th></tr>\n",
       "</thead>\n",
       "<tbody>\n",
       "\t<tr><td>3</td><td>83.14286</td><td>0.7814286</td><td>0.1742857</td><td>25.57143</td><td>0.11300000</td><td>13.57143</td><td>0.5900000</td></tr>\n",
       "\t<tr><td>4</td><td>72.09524</td><td>0.6832143</td><td>0.2026190</td><td>25.21429</td><td>0.09054762</td><td>12.69048</td><td>0.6078571</td></tr>\n",
       "\t<tr><td>⋮</td><td>⋮</td><td>⋮</td><td>⋮</td><td>⋮</td><td>⋮</td><td>⋮</td><td>⋮</td></tr>\n",
       "\t<tr><td>7</td><td>81.84459</td><td>0.4116216</td><td>0.3757432</td><td>37.26351</td><td>0.07411486</td><td>19.10811</td><td>0.7387838</td></tr>\n",
       "\t<tr><td>8</td><td>72.80000</td><td>0.4390000</td><td>0.3350000</td><td>19.50000</td><td>0.06530000</td><td>13.00000</td><td>0.7640000</td></tr>\n",
       "</tbody>\n",
       "</table>\n"
      ],
      "text/latex": [
       "A tibble: 6 × 8\n",
       "\\begin{tabular}{llllllll}\n",
       " quality & fixed.acidity & volatile.acidity & citric.acid & residual.sugar & chlorides & free.sulfur.dioxide & sulphates\\\\\n",
       " <fct> & <dbl> & <dbl> & <dbl> & <dbl> & <dbl> & <dbl> & <dbl>\\\\\n",
       "\\hline\n",
       "\t 3 & 83.14286 & 0.7814286 & 0.1742857 & 25.57143 & 0.11300000 & 13.57143 & 0.5900000\\\\\n",
       "\t 4 & 72.09524 & 0.6832143 & 0.2026190 & 25.21429 & 0.09054762 & 12.69048 & 0.6078571\\\\\n",
       "\t ⋮ & ⋮ & ⋮ & ⋮ & ⋮ & ⋮ & ⋮ & ⋮\\\\\n",
       "\t 7 & 81.84459 & 0.4116216 & 0.3757432 & 37.26351 & 0.07411486 & 19.10811 & 0.7387838\\\\\n",
       "\t 8 & 72.80000 & 0.4390000 & 0.3350000 & 19.50000 & 0.06530000 & 13.00000 & 0.7640000\\\\\n",
       "\\end{tabular}\n"
      ],
      "text/markdown": [
       "\n",
       "A tibble: 6 × 8\n",
       "\n",
       "| quality &lt;fct&gt; | fixed.acidity &lt;dbl&gt; | volatile.acidity &lt;dbl&gt; | citric.acid &lt;dbl&gt; | residual.sugar &lt;dbl&gt; | chlorides &lt;dbl&gt; | free.sulfur.dioxide &lt;dbl&gt; | sulphates &lt;dbl&gt; |\n",
       "|---|---|---|---|---|---|---|---|\n",
       "| 3 | 83.14286 | 0.7814286 | 0.1742857 | 25.57143 | 0.11300000 | 13.57143 | 0.5900000 |\n",
       "| 4 | 72.09524 | 0.6832143 | 0.2026190 | 25.21429 | 0.09054762 | 12.69048 | 0.6078571 |\n",
       "| ⋮ | ⋮ | ⋮ | ⋮ | ⋮ | ⋮ | ⋮ | ⋮ |\n",
       "| 7 | 81.84459 | 0.4116216 | 0.3757432 | 37.26351 | 0.07411486 | 19.10811 | 0.7387838 |\n",
       "| 8 | 72.80000 | 0.4390000 | 0.3350000 | 19.50000 | 0.06530000 | 13.00000 | 0.7640000 |\n",
       "\n"
      ],
      "text/plain": [
       "  quality fixed.acidity volatile.acidity citric.acid residual.sugar chlorides \n",
       "1 3       83.14286      0.7814286        0.1742857   25.57143       0.11300000\n",
       "2 4       72.09524      0.6832143        0.2026190   25.21429       0.09054762\n",
       "⋮ ⋮       ⋮             ⋮                ⋮           ⋮              ⋮         \n",
       "5 7       81.84459      0.4116216        0.3757432   37.26351       0.07411486\n",
       "6 8       72.80000      0.4390000        0.3350000   19.50000       0.06530000\n",
       "  free.sulfur.dioxide sulphates\n",
       "1 13.57143            0.5900000\n",
       "2 12.69048            0.6078571\n",
       "⋮ ⋮                   ⋮        \n",
       "5 19.10811            0.7387838\n",
       "6 13.00000            0.7640000"
      ]
     },
     "metadata": {},
     "output_type": "display_data"
    }
   ],
   "source": [
    "group_by(wine_train, quality) |>\n",
    "        summarize(across(fixed.acidity:sulphates, mean))"
   ]
  },
  {
   "cell_type": "markdown",
   "id": "a6be3562-aee4-4feb-a0cb-6449cec1203d",
   "metadata": {},
   "source": [
    "From this table, we can see that a quality 4 wine for example corresponds to an average value of 23.5 in residual sugar."
   ]
  },
  {
   "cell_type": "markdown",
   "id": "120f1dac-d9e9-440f-9011-92e8a97f48aa",
   "metadata": {},
   "source": [
    "**4.**\n",
    "Finding overall summary of dataset using `summary()`."
   ]
  },
  {
   "cell_type": "code",
   "execution_count": 8,
   "id": "32f498e0-4c91-40eb-aa44-731e3e514d91",
   "metadata": {},
   "outputs": [
    {
     "data": {
      "text/plain": [
       " fixed.acidity    volatile.acidity  citric.acid    residual.sugar  \n",
       " Min.   :  5.00   Min.   :0.1200   Min.   :0.000   Min.   :  2.00  \n",
       " 1st Qu.: 68.00   1st Qu.:0.4000   1st Qu.:0.090   1st Qu.: 17.00  \n",
       " Median : 77.00   Median :0.5200   Median :0.255   Median : 22.00  \n",
       " Mean   : 74.73   Mean   :0.5283   Mean   :0.269   Mean   : 26.12  \n",
       " 3rd Qu.: 91.00   3rd Qu.:0.6400   3rd Qu.:0.420   3rd Qu.: 26.00  \n",
       " Max.   :159.00   Max.   :1.3300   Max.   :1.000   Max.   :655.00  \n",
       "   chlorides       free.sulfur.dioxide   sulphates      quality\n",
       " Min.   :0.01200   Min.   :  1.00      Min.   :0.3300   3:  7  \n",
       " 1st Qu.:0.07000   1st Qu.:  7.00      1st Qu.:0.5500   4: 42  \n",
       " Median :0.07900   Median : 14.00      Median :0.6200   5:512  \n",
       " Mean   :0.08737   Mean   : 16.44      Mean   :0.6568   6:479  \n",
       " 3rd Qu.:0.09000   3rd Qu.: 21.00      3rd Qu.:0.7300   7:148  \n",
       " Max.   :0.61100   Max.   :375.00      Max.   :2.0000   8: 10  "
      ]
     },
     "metadata": {},
     "output_type": "display_data"
    }
   ],
   "source": [
    "summary(wine_train)"
   ]
  },
  {
   "cell_type": "markdown",
   "id": "c087e11c-3679-448a-b48f-97cb9b692b9c",
   "metadata": {
    "tags": []
   },
   "source": [
    "## Visualization"
   ]
  },
  {
   "cell_type": "markdown",
   "id": "82d85668-bd6f-4df3-81a5-20cff4a108e7",
   "metadata": {},
   "source": [
    "We use the `ggplot` function to graph how each variable contributes to each quality. \n",
    "Then we used `plot_grid` function to group each graph together to help us better visualize and compare our data set. "
   ]
  },
  {
   "cell_type": "code",
   "execution_count": 9,
   "id": "ac645a17-d381-4c47-8488-1da6ee2eed62",
   "metadata": {},
   "outputs": [
    {
     "name": "stderr",
     "output_type": "stream",
     "text": [
      "Warning message:\n",
      "“Ignoring unknown parameters: binwidth, bins, pad”\n",
      "Warning message:\n",
      "“Ignoring unknown parameters: binwidth, bins, pad”\n",
      "Warning message:\n",
      "“Ignoring unknown parameters: binwidth, bins, pad”\n",
      "Warning message:\n",
      "“Ignoring unknown parameters: binwidth, bins, pad”\n",
      "Warning message:\n",
      "“Ignoring unknown parameters: binwidth, bins, pad”\n",
      "Warning message:\n",
      "“Ignoring unknown parameters: binwidth, bins, pad”\n",
      "Warning message:\n",
      "“Ignoring unknown parameters: binwidth, bins, pad”\n"
     ]
    },
    {
     "data": {
      "image/png": "[encoded data removed]",
      "text/plain": [
       "plot without title"
      ]
     },
     "metadata": {
      "image/png": {
       "height": 600,
       "width": 1200
      }
     },
     "output_type": "display_data"
    }
   ],
   "source": [
    "options(repr.plot.height = 10, repr.plot.width = 20)\n",
    "\n",
    "fixed_acidity_plot <- ggplot(wine_train, aes(x = fixed.acidity, y = quality)) +\n",
    "                geom_histogram(stat = \"identity\") +\n",
    "                #facet_grid(rows = vars(quality))+\n",
    "                labs(x = \"Fixed Acidity\", y = \"Quality\") +\n",
    "                theme(text = element_text(size = 18)) +\n",
    "                coord_flip()\n",
    "\n",
    "volatile_acidity_plot <- ggplot(wine_train, aes(x = volatile.acidity, y = quality)) +\n",
    "                geom_histogram(stat = \"identity\") +\n",
    "                labs(x = \"Volatile Acidity\", y = \"Quality\") +\n",
    "                theme(text = element_text(size = 18)) +\n",
    "                coord_flip()\n",
    "\n",
    "citric_acid_plot <- ggplot(wine_train, aes(x = citric.acid, y = quality)) +\n",
    "                geom_histogram(stat = \"identity\") +\n",
    "                labs(x = \"Citric Acid\", y = \"Quality\") +\n",
    "                theme(text = element_text(size = 18)) +\n",
    "                coord_flip()\n",
    " \n",
    "residual_sugar_plot <- ggplot(wine_train, aes(x = residual.sugar, y = quality)) +\n",
    "                geom_histogram(stat = \"identity\") +\n",
    "                labs(x = \"Residual Sugar\", y = \"Quality\") +\n",
    "                theme(text = element_text(size = 18)) +\n",
    "                coord_flip()\n",
    "\n",
    "chlorides_plot <- ggplot(wine_train, aes(x = chlorides, y = quality)) +\n",
    "                geom_histogram(stat = \"identity\") +\n",
    "                labs(x = \"Chlorides\", y = \"Quality\") +\n",
    "                theme(text = element_text(size = 18)) +\n",
    "                coord_flip()\n",
    "\n",
    "free_sulfur_dioxide_plot <- ggplot(wine_train, aes(x = free.sulfur.dioxide, y = quality)) +\n",
    "                geom_histogram(stat = \"identity\") +\n",
    "                labs(x = \"Free Sulfur Dioxide\", y = \"Quality\") +\n",
    "                theme(text = element_text(size = 18)) +\n",
    "                coord_flip()\n",
    "\n",
    "sulphates_plot <- ggplot(wine_train, aes(x = sulphates, y = quality)) +\n",
    "                geom_histogram(stat = \"identity\") +\n",
    "                labs(x = \"Sulphates\", y = \"Quality\") +\n",
    "                theme(text = element_text(size = 18)) +\n",
    "                coord_flip()\n",
    "\n",
    "plot_grid(fixed_acidity_plot, volatile_acidity_plot, citric_acid_plot, residual_sugar_plot, chlorides_plot, free_sulfur_dioxide_plot, sulphates_plot,  \n",
    "          labels = c(\"A\", \"B\", \"C\", \"D\", \"E\", \"F\", \"G\"),\n",
    "          ncol = 4, nrow = 2)"
   ]
  },
  {
   "cell_type": "markdown",
   "id": "72a4a645-4098-4bf0-9c16-d75f0bca5929",
   "metadata": {},
   "source": [
    "From reading these graphs, we can collect many useful information regarding to how each variables changes the overall quality of the wine. For example, the fixed acidity plot shows us that wines with quality of 3 contains amount ranging from 70 to 120, while wines with quality of 4 ranges from 0 to 125, and so on. "
   ]
  },
  {
   "cell_type": "markdown",
   "id": "e7c5f273-c434-4206-82e0-d7ea1d228750",
   "metadata": {},
   "source": [
    "## Method\n",
    "We will create a scatterplot graph and assess how each variable changes the quality of wine, which has the biggest impact with the least change, then use classification to predict wine quality on a scale of 1-10. Columns with insignificant effect on the data (density, pH, alcohol, total sulfur dioxide) will be removed. Columns with significant impact (fixed acidity, volatile acidity, citric acid, residual sugar, sulfur dioxide, sulphates, and quality) will be kept. \n",
    "We will visualize the result to make another scatter plot graph. The y-axis will have the quality of the wine on a 1-10 scale and on the x-axis will have the other variable it is being compared to. This will provide several graphs visualizing each variable's impact on wine quality.\n",
    "\n",
    "## Expected Outcomes and Significance\n",
    "1. **What do we expect to find?**\n",
    "\n",
    "We expect to determine the ideal ratio of wine factors to achieve the highest quality of vinho verde, and which variables are more consequential in comparison to others. There may be a “breaking point” within a variable, (a spot where the quality will drastically change after a certain threshold). \n",
    "\n",
    "2. **What impact could such findings have?**\n",
    "\n",
    "Determining wine quality can promote wine testing and ensure safety within the food industry. It can inform consumers and motivate sellers to uphold a certain standard of quality. Furthermore, the quality of wine can serve as a reflection of its contents, which provides insight as to whether the wine is safe and follows food health and safety guidelines. \n",
    "\n",
    "3. **What future questions could this lead to?**\n",
    "\n",
    "There may be further research into the factors not in this dataset, and whether certain variables can be compromised. It can also lead to further questions like “How do we cost effectively make high quality wine”, or wine producing the most sales, etc. \n"
   ]
  },
  {
   "cell_type": "markdown",
   "id": "535a566c-7ec8-43a5-a5bf-c45675aad6a7",
   "metadata": {},
   "source": [
    "## The K-Nearest-Neighbors Classification Model"
   ]
  },
  {
   "cell_type": "markdown",
   "id": "d4bcb88b-357a-4719-9d13-81bb6bb43c15",
   "metadata": {},
   "source": [
    "**1.** We split the data using the `initial_split()` function shown above. "
   ]
  },
  {
   "cell_type": "markdown",
   "id": "eafcbe7e-382d-47d1-ac4d-6171effe5aa7",
   "metadata": {},
   "source": [
    "**2.** We used the `vfold_cv()` function to split up the training data for cross validation. "
   ]
  },
  {
   "cell_type": "code",
   "execution_count": 10,
   "id": "eed12497-2548-4ffc-9c79-b60534b4c7b2",
   "metadata": {},
   "outputs": [],
   "source": [
    "wine_vfold <- vfold_cv(wine_train, v = 10, strata = quality)"
   ]
  },
  {
   "cell_type": "markdown",
   "id": "60d74fd1-9bcf-4510-864c-c6191818f1a2",
   "metadata": {},
   "source": [
    "**3.** We passed in the training data set into the `recipe()` function to create a recipe that specifies the target variable `quality`, which is the one that we want to predict while the rest are used as predictors indicated with `.`.  \n",
    "\n",
    "   The `step_center()` and `step_scale()` are both used to standardize, which will centre and scale all the variables in the dataset. Centering will make sure that every variable has an average of 0, while scaling will make sure that every variable has standard deviation of 1. "
   ]
  },
  {
   "cell_type": "code",
   "execution_count": 11,
   "id": "2c855b86-df03-4966-827f-edfcf27b1d7c",
   "metadata": {},
   "outputs": [
    {
     "data": {
      "text/plain": [
       "Recipe\n",
       "\n",
       "Inputs:\n",
       "\n",
       "      role #variables\n",
       "   outcome          1\n",
       " predictor          7\n",
       "\n",
       "Operations:\n",
       "\n",
       "Scaling for all_predictors()\n",
       "Centering for all_predictors()"
      ]
     },
     "metadata": {},
     "output_type": "display_data"
    }
   ],
   "source": [
    "wine_recipe <- recipe(quality ~ . , data = wine_train) |>\n",
    "    step_scale(all_predictors()) |>\n",
    "    step_center(all_predictors())\n",
    "wine_recipe"
   ]
  },
  {
   "cell_type": "markdown",
   "id": "d222d58f-e79d-4c1f-b209-93eba084ac05",
   "metadata": {},
   "source": [
    "**4.** We created a K-Nearest-Neighbors model specification using the `nearest_neighbor()` function with the `tune()` function since we want to select the best value of K for this model. \n",
    "\n",
    "The `set_engine()` specifies which package or system will be used for training the model, which in this case, we use the “kknn” package to perform the K-nearest neighbours classification. \n",
    "\n",
    "The `set_mode` function specifies what type of problem we are dealing with, which in this case, this is a classification problem. "
   ]
  },
  {
   "cell_type": "code",
   "execution_count": 12,
   "id": "fc1cbdef-9e24-4c43-8e9f-484f8c506cb6",
   "metadata": {},
   "outputs": [
    {
     "data": {
      "text/plain": [
       "K-Nearest Neighbor Model Specification (classification)\n",
       "\n",
       "Main Arguments:\n",
       "  neighbors = tune()\n",
       "  weight_func = rectangular\n",
       "\n",
       "Computational engine: kknn \n"
      ]
     },
     "metadata": {},
     "output_type": "display_data"
    }
   ],
   "source": [
    "knn_spec <- nearest_neighbor(weight_func = \"rectangular\", neighbors = tune()) |>\n",
    "    set_engine(\"kknn\") |>\n",
    "    set_mode(\"classification\")\n",
    "knn_spec"
   ]
  },
  {
   "cell_type": "markdown",
   "id": "10edae5a-5b11-447a-b6ce-d24c3593e614",
   "metadata": {},
   "source": [
    "**5.** We added the `recipe` and `model specification` to a `workflow()`, and used the `tune_grid()` function on the train/validation splits to estimate the classifer accuracy for a range of K values. "
   ]
  },
  {
   "cell_type": "code",
   "execution_count": 13,
   "id": "0e6c02ac-41a4-4952-841c-d4307969fe71",
   "metadata": {},
   "outputs": [
    {
     "name": "stderr",
     "output_type": "stream",
     "text": [
      "\u001b[33m!\u001b[39m \u001b[33mFold02: internal:\n",
      "  No observations were detected in `truth` for level(s): '3', '8'\n",
      "  Computation will proceed by ignoring those levels.\u001b[39m\n",
      "\n",
      "\u001b[33m!\u001b[39m \u001b[33mFold03: internal:\n",
      "  No observations were detected in `truth` for level(s): '3', '8'\n",
      "  Computation will proceed by ignoring those levels.\u001b[39m\n",
      "\n",
      "\u001b[33m!\u001b[39m \u001b[33mFold04: internal:\n",
      "  No observations were detected in `truth` for level(s): '3'\n",
      "  Computation will proceed by ignoring those levels.\u001b[39m\n",
      "\n",
      "\u001b[33m!\u001b[39m \u001b[33mFold06: internal:\n",
      "  No observations were detected in `truth` for level(s): '3'\n",
      "  Computation will proceed by ignoring those levels.\u001b[39m\n",
      "\n",
      "\u001b[33m!\u001b[39m \u001b[33mFold07: internal:\n",
      "  No observations were detected in `truth` for level(s): '3', '8'\n",
      "  Computation will proceed by ignoring those levels.\u001b[39m\n",
      "\n",
      "\u001b[33m!\u001b[39m \u001b[33mFold08: internal:\n",
      "  No observations were detected in `truth` for level(s): '3', '8'\n",
      "  Computation will proceed by ignoring those levels.\u001b[39m\n",
      "\n"
     ]
    },
    {
     "data": {
      "text/html": [
       "<table class=\"dataframe\">\n",
       "<caption>A tibble: 10 × 7</caption>\n",
       "<thead>\n",
       "\t<tr><th scope=col>neighbors</th><th scope=col>.metric</th><th scope=col>.estimator</th><th scope=col>mean</th><th scope=col>n</th><th scope=col>std_err</th><th scope=col>.config</th></tr>\n",
       "\t<tr><th scope=col>&lt;int&gt;</th><th scope=col>&lt;chr&gt;</th><th scope=col>&lt;chr&gt;</th><th scope=col>&lt;dbl&gt;</th><th scope=col>&lt;int&gt;</th><th scope=col>&lt;dbl&gt;</th><th scope=col>&lt;chr&gt;</th></tr>\n",
       "</thead>\n",
       "<tbody>\n",
       "\t<tr><td>2</td><td>accuracy</td><td>multiclass</td><td>0.5900859</td><td>10</td><td>0.008578411</td><td>Preprocessor1_Model01</td></tr>\n",
       "\t<tr><td>3</td><td>accuracy</td><td>multiclass</td><td>0.5425194</td><td>10</td><td>0.015527152</td><td>Preprocessor1_Model02</td></tr>\n",
       "\t<tr><td>⋮</td><td>⋮</td><td>⋮</td><td>⋮</td><td>⋮</td><td>⋮</td><td>⋮</td></tr>\n",
       "\t<tr><td>13</td><td>accuracy</td><td>multiclass</td><td>0.5284281</td><td>10</td><td>0.01289799</td><td>Preprocessor1_Model09</td></tr>\n",
       "\t<tr><td>15</td><td>accuracy</td><td>multiclass</td><td>0.5276299</td><td>10</td><td>0.01226684</td><td>Preprocessor1_Model10</td></tr>\n",
       "</tbody>\n",
       "</table>\n"
      ],
      "text/latex": [
       "A tibble: 10 × 7\n",
       "\\begin{tabular}{lllllll}\n",
       " neighbors & .metric & .estimator & mean & n & std\\_err & .config\\\\\n",
       " <int> & <chr> & <chr> & <dbl> & <int> & <dbl> & <chr>\\\\\n",
       "\\hline\n",
       "\t 2 & accuracy & multiclass & 0.5900859 & 10 & 0.008578411 & Preprocessor1\\_Model01\\\\\n",
       "\t 3 & accuracy & multiclass & 0.5425194 & 10 & 0.015527152 & Preprocessor1\\_Model02\\\\\n",
       "\t ⋮ & ⋮ & ⋮ & ⋮ & ⋮ & ⋮ & ⋮\\\\\n",
       "\t 13 & accuracy & multiclass & 0.5284281 & 10 & 0.01289799 & Preprocessor1\\_Model09\\\\\n",
       "\t 15 & accuracy & multiclass & 0.5276299 & 10 & 0.01226684 & Preprocessor1\\_Model10\\\\\n",
       "\\end{tabular}\n"
      ],
      "text/markdown": [
       "\n",
       "A tibble: 10 × 7\n",
       "\n",
       "| neighbors &lt;int&gt; | .metric &lt;chr&gt; | .estimator &lt;chr&gt; | mean &lt;dbl&gt; | n &lt;int&gt; | std_err &lt;dbl&gt; | .config &lt;chr&gt; |\n",
       "|---|---|---|---|---|---|---|\n",
       "| 2 | accuracy | multiclass | 0.5900859 | 10 | 0.008578411 | Preprocessor1_Model01 |\n",
       "| 3 | accuracy | multiclass | 0.5425194 | 10 | 0.015527152 | Preprocessor1_Model02 |\n",
       "| ⋮ | ⋮ | ⋮ | ⋮ | ⋮ | ⋮ | ⋮ |\n",
       "| 13 | accuracy | multiclass | 0.5284281 | 10 | 0.01289799 | Preprocessor1_Model09 |\n",
       "| 15 | accuracy | multiclass | 0.5276299 | 10 | 0.01226684 | Preprocessor1_Model10 |\n",
       "\n"
      ],
      "text/plain": [
       "   neighbors .metric  .estimator mean      n  std_err     .config              \n",
       "1  2         accuracy multiclass 0.5900859 10 0.008578411 Preprocessor1_Model01\n",
       "2  3         accuracy multiclass 0.5425194 10 0.015527152 Preprocessor1_Model02\n",
       "⋮  ⋮         ⋮        ⋮          ⋮         ⋮  ⋮           ⋮                    \n",
       "9  13        accuracy multiclass 0.5284281 10 0.01289799  Preprocessor1_Model09\n",
       "10 15        accuracy multiclass 0.5276299 10 0.01226684  Preprocessor1_Model10"
      ]
     },
     "metadata": {},
     "output_type": "display_data"
    }
   ],
   "source": [
    "knn_results <- workflow() |>\n",
    "    add_recipe(wine_recipe) |>\n",
    "    add_model(knn_spec) |>\n",
    "    tune_grid(resamples  = wine_vfold, grid = 10) |>\n",
    "    collect_metrics() |> \n",
    "    filter(.metric == \"accuracy\")\n",
    "knn_results"
   ]
  },
  {
   "cell_type": "markdown",
   "id": "a4470623-da7a-4a8a-9ab6-aa1b93605680",
   "metadata": {},
   "source": [
    "**6.** We created an `accuracy_vs_k_plot` in order to help us choose the optimal k value. "
   ]
  },
  {
   "cell_type": "code",
   "execution_count": 14,
   "id": "7bd3b734-6b7d-4ff0-aed1-09efcbe48093",
   "metadata": {},
   "outputs": [
    {
     "data": {
      "image/png": "[encoded data removed]",
      "text/plain": [
       "plot without title"
      ]
     },
     "metadata": {
      "image/png": {
       "height": 600,
       "width": 1200
      }
     },
     "output_type": "display_data"
    }
   ],
   "source": [
    "accuracy_vs_k_plot <- ggplot(knn_results, aes(x = neighbors, y = mean)) +\n",
    "    geom_point() +\n",
    "    geom_line() +\n",
    "    labs(x = \"Neighbors\", y = \"Accuracy Estimate\") +\n",
    "    theme(text = element_text(size = 20))\n",
    "accuracy_vs_k_plot"
   ]
  },
  {
   "cell_type": "markdown",
   "id": "e83a5f67-78b9-41e5-886c-1277869a35d9",
   "metadata": {},
   "source": [
    "**7.** Based on the plot above, We choosed K = 2 because that was where it obtain its best accuracy, which is roughly 59%. Then we made a new model specifcation based on K = 2, and re-trained the classifier using the `fit()` function. "
   ]
  },
  {
   "cell_type": "code",
   "execution_count": 15,
   "id": "abd78b74-a8a7-43cd-88c6-3ebb06a92845",
   "metadata": {},
   "outputs": [
    {
     "data": {
      "text/plain": [
       "K-Nearest Neighbor Model Specification (classification)\n",
       "\n",
       "Main Arguments:\n",
       "  neighbors = 2\n",
       "  weight_func = rectangular\n",
       "\n",
       "Computational engine: kknn \n"
      ]
     },
     "metadata": {},
     "output_type": "display_data"
    },
    {
     "data": {
      "text/plain": [
       "══ Workflow [trained] ══════════════════════════════════════════════════════════\n",
       "\u001b[3mPreprocessor:\u001b[23m Recipe\n",
       "\u001b[3mModel:\u001b[23m nearest_neighbor()\n",
       "\n",
       "── Preprocessor ────────────────────────────────────────────────────────────────\n",
       "2 Recipe Steps\n",
       "\n",
       "• step_scale()\n",
       "• step_center()\n",
       "\n",
       "── Model ───────────────────────────────────────────────────────────────────────\n",
       "\n",
       "Call:\n",
       "kknn::train.kknn(formula = ..y ~ ., data = data, ks = min_rows(2,     data, 5), kernel = ~\"rectangular\")\n",
       "\n",
       "Type of response variable: nominal\n",
       "Minimal misclassification: 0.4858097\n",
       "Best kernel: rectangular\n",
       "Best k: 2"
      ]
     },
     "metadata": {},
     "output_type": "display_data"
    }
   ],
   "source": [
    "best_k_spec <- nearest_neighbor(weight_func = \"rectangular\", neighbors = 2) |>\n",
    "    set_engine(\"kknn\") |>\n",
    "    set_mode(\"classification\")\n",
    "best_k_spec\n",
    "\n",
    "best_fit <- workflow() |>\n",
    "    add_recipe(wine_recipe) |> \n",
    "    add_model(best_k_spec) |> \n",
    "    fit(data = wine_train)\n",
    "best_fit"
   ]
  },
  {
   "cell_type": "markdown",
   "id": "4ea406f8-4685-4d8c-b75d-657c97724852",
   "metadata": {},
   "source": [
    "**8.** Lastly, we got the prediction column and compared the accuracy of the predictions to the true values in the test set. Furthermore, we also compared the predictions to the true values in a confusion matrix. "
   ]
  },
  {
   "cell_type": "code",
   "execution_count": 16,
   "id": "e21bd9c8-a377-4c8d-b761-64ed1c3ff5e5",
   "metadata": {},
   "outputs": [
    {
     "data": {
      "text/html": [
       "<table class=\"dataframe\">\n",
       "<caption>A tibble: 401 × 9</caption>\n",
       "<thead>\n",
       "\t<tr><th scope=col>.pred_class</th><th scope=col>fixed.acidity</th><th scope=col>volatile.acidity</th><th scope=col>citric.acid</th><th scope=col>residual.sugar</th><th scope=col>chlorides</th><th scope=col>free.sulfur.dioxide</th><th scope=col>sulphates</th><th scope=col>quality</th></tr>\n",
       "\t<tr><th scope=col>&lt;fct&gt;</th><th scope=col>&lt;dbl&gt;</th><th scope=col>&lt;dbl&gt;</th><th scope=col>&lt;dbl&gt;</th><th scope=col>&lt;dbl&gt;</th><th scope=col>&lt;dbl&gt;</th><th scope=col>&lt;dbl&gt;</th><th scope=col>&lt;dbl&gt;</th><th scope=col>&lt;fct&gt;</th></tr>\n",
       "</thead>\n",
       "<tbody>\n",
       "\t<tr><td>5</td><td>78</td><td>0.88</td><td>0.00</td><td>26</td><td>0.098</td><td>25</td><td>0.68</td><td>5</td></tr>\n",
       "\t<tr><td>4</td><td>79</td><td>0.60</td><td>0.06</td><td>16</td><td>0.069</td><td>15</td><td>0.46</td><td>5</td></tr>\n",
       "\t<tr><td>⋮</td><td>⋮</td><td>⋮</td><td>⋮</td><td>⋮</td><td>⋮</td><td>⋮</td><td>⋮</td><td>⋮</td></tr>\n",
       "\t<tr><td>6</td><td>61</td><td>0.715</td><td>0.10</td><td>26</td><td>0.053</td><td>13</td><td>0.5</td><td>5</td></tr>\n",
       "\t<tr><td>7</td><td>67</td><td>0.320</td><td>0.44</td><td>24</td><td>0.061</td><td>24</td><td>0.8</td><td>7</td></tr>\n",
       "</tbody>\n",
       "</table>\n"
      ],
      "text/latex": [
       "A tibble: 401 × 9\n",
       "\\begin{tabular}{lllllllll}\n",
       " .pred\\_class & fixed.acidity & volatile.acidity & citric.acid & residual.sugar & chlorides & free.sulfur.dioxide & sulphates & quality\\\\\n",
       " <fct> & <dbl> & <dbl> & <dbl> & <dbl> & <dbl> & <dbl> & <dbl> & <fct>\\\\\n",
       "\\hline\n",
       "\t 5 & 78 & 0.88 & 0.00 & 26 & 0.098 & 25 & 0.68 & 5\\\\\n",
       "\t 4 & 79 & 0.60 & 0.06 & 16 & 0.069 & 15 & 0.46 & 5\\\\\n",
       "\t ⋮ & ⋮ & ⋮ & ⋮ & ⋮ & ⋮ & ⋮ & ⋮ & ⋮\\\\\n",
       "\t 6 & 61 & 0.715 & 0.10 & 26 & 0.053 & 13 & 0.5 & 5\\\\\n",
       "\t 7 & 67 & 0.320 & 0.44 & 24 & 0.061 & 24 & 0.8 & 7\\\\\n",
       "\\end{tabular}\n"
      ],
      "text/markdown": [
       "\n",
       "A tibble: 401 × 9\n",
       "\n",
       "| .pred_class &lt;fct&gt; | fixed.acidity &lt;dbl&gt; | volatile.acidity &lt;dbl&gt; | citric.acid &lt;dbl&gt; | residual.sugar &lt;dbl&gt; | chlorides &lt;dbl&gt; | free.sulfur.dioxide &lt;dbl&gt; | sulphates &lt;dbl&gt; | quality &lt;fct&gt; |\n",
       "|---|---|---|---|---|---|---|---|---|\n",
       "| 5 | 78 | 0.88 | 0.00 | 26 | 0.098 | 25 | 0.68 | 5 |\n",
       "| 4 | 79 | 0.60 | 0.06 | 16 | 0.069 | 15 | 0.46 | 5 |\n",
       "| ⋮ | ⋮ | ⋮ | ⋮ | ⋮ | ⋮ | ⋮ | ⋮ | ⋮ |\n",
       "| 6 | 61 | 0.715 | 0.10 | 26 | 0.053 | 13 | 0.5 | 5 |\n",
       "| 7 | 67 | 0.320 | 0.44 | 24 | 0.061 | 24 | 0.8 | 7 |\n",
       "\n"
      ],
      "text/plain": [
       "    .pred_class fixed.acidity volatile.acidity citric.acid residual.sugar\n",
       "1   5           78            0.88             0.00        26            \n",
       "2   4           79            0.60             0.06        16            \n",
       "⋮   ⋮           ⋮             ⋮                ⋮           ⋮             \n",
       "400 6           61            0.715            0.10        26            \n",
       "401 7           67            0.320            0.44        24            \n",
       "    chlorides free.sulfur.dioxide sulphates quality\n",
       "1   0.098     25                  0.68      5      \n",
       "2   0.069     15                  0.46      5      \n",
       "⋮   ⋮         ⋮                   ⋮         ⋮      \n",
       "400 0.053     13                  0.5       5      \n",
       "401 0.061     24                  0.8       7      "
      ]
     },
     "metadata": {},
     "output_type": "display_data"
    },
    {
     "data": {
      "text/html": [
       "<table class=\"dataframe\">\n",
       "<caption>A tibble: 1 × 2</caption>\n",
       "<thead>\n",
       "\t<tr><th scope=col>.metric</th><th scope=col>.estimate</th></tr>\n",
       "\t<tr><th scope=col>&lt;chr&gt;</th><th scope=col>&lt;dbl&gt;</th></tr>\n",
       "</thead>\n",
       "<tbody>\n",
       "\t<tr><td>accuracy</td><td>0.605985</td></tr>\n",
       "</tbody>\n",
       "</table>\n"
      ],
      "text/latex": [
       "A tibble: 1 × 2\n",
       "\\begin{tabular}{ll}\n",
       " .metric & .estimate\\\\\n",
       " <chr> & <dbl>\\\\\n",
       "\\hline\n",
       "\t accuracy & 0.605985\\\\\n",
       "\\end{tabular}\n"
      ],
      "text/markdown": [
       "\n",
       "A tibble: 1 × 2\n",
       "\n",
       "| .metric &lt;chr&gt; | .estimate &lt;dbl&gt; |\n",
       "|---|---|\n",
       "| accuracy | 0.605985 |\n",
       "\n"
      ],
      "text/plain": [
       "  .metric  .estimate\n",
       "1 accuracy 0.605985 "
      ]
     },
     "metadata": {},
     "output_type": "display_data"
    },
    {
     "data": {
      "text/plain": [
       "          Truth\n",
       "Prediction   3   4   5   6   7   8\n",
       "         3   0   0   0   3   0   0\n",
       "         4   0   1   6   1   1   0\n",
       "         5   2   7 117  42   6   2\n",
       "         6   1   2  39  96  15   3\n",
       "         7   0   1   6  16  29   3\n",
       "         8   0   0   1   1   0   0"
      ]
     },
     "metadata": {},
     "output_type": "display_data"
    }
   ],
   "source": [
    "wine_test_predictions <- predict(best_fit, wine_test) |>\n",
    "    bind_cols(wine_test)\n",
    "wine_test_predictions\n",
    "\n",
    "wine_test_predictions_accuracy <- wine_test_predictions |> \n",
    "    metrics(truth = quality, estimate = .pred_class) |> \n",
    "    select(.metric, .estimate) |> \n",
    "    head(1)\n",
    "wine_test_predictions_accuracy\n",
    "\n",
    "wine_confusion_mat <- wine_test_predictions |> \n",
    "    conf_mat(truth = quality, estimate = .pred_class)\n",
    "wine_confusion_mat"
   ]
  },
  {
   "cell_type": "markdown",
   "id": "6f97f92d-5925-4fe0-823d-dacbb2cab721",
   "metadata": {},
   "source": [
    "## Discussion\n",
    "\n",
    "- summarize what you found\n",
    "- discuss whether this is what you expected to find?\n",
    "- discuss what impact could such findings have?\n",
    "- discuss what future questions could this lead to?"
   ]
  },
  {
   "cell_type": "markdown",
   "id": "52e7c5ac-3d17-4da4-bfc8-6a6372b1991a",
   "metadata": {},
   "source": [
    "## References\n",
    "\n",
    "- At least 2 citations of literature relevant to the project (format is your choice, just be consistent across the references).\n",
    "- Make sure to cite the source of your data as well."
   ]
  },
  {
   "cell_type": "markdown",
   "id": "2d227394-40fc-41fa-a02f-621b6037b3c0",
   "metadata": {},
   "source": [
    "-we can cite creator of R + the creators of dataset"
   ]
  },
  {
   "cell_type": "code",
   "execution_count": null,
   "id": "e972cd83-4941-4472-a3cb-2a1d79df6ea3",
   "metadata": {},
   "outputs": [],
   "source": []
  }
 ],
 "metadata": {
  "kernelspec": {
   "display_name": "R",
   "language": "R",
   "name": "ir"
  },
  "language_info": {
   "codemirror_mode": "r",
   "file_extension": ".r",
   "mimetype": "text/x-r-source",
   "name": "R",
   "pygments_lexer": "r",
   "version": "4.1.3"
  }
 },
 "nbformat": 4,
 "nbformat_minor": 5
}
