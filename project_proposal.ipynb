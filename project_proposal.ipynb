{
 "cells": [
  {
   "cell_type": "markdown",
   "id": "f9ec6552-9137-486e-8e80-49c8225c8aa0",
   "metadata": {},
   "source": [
    "# Vinho Verde: Wine Quality Analysis"
   ]
  },
  {
   "cell_type": "markdown",
   "id": "ba989799-b6e2-4e66-8ac2-59f95181ac29",
   "metadata": {},
   "source": [
    "## Introduction\n",
    "\n",
    "Wine is a type of alcoholic beverage made from the fermentation of grape juice. There are many factors which determine the final quality of wine: The volatile acidity is usually the measure of acetic acid in wine, if the VA is above a certain threshold the wine is considered spoiled and will taste like vinegar. On the other hand, citric acid is used to increase acidity and enhance the flavour of the wine. The residual sugar in wine is the leftover sugar from the grapes after the fermentation process; higher sugar levels increase the sweetness of the wine. While the sugar controls sweetness, chloride contributes to the saltiness of wine, more sodium chloride creates a saltier beverage. PH is essential to wine quality, low pH makes the taste of wine crisp and tart, whereas a high pH results in susceptibility to bacterial growth. Along with this, higher sulphate content also decreases the quality of wine, making it taste duller. \n",
    " \n",
    "**How do different variables change the overall quality of the wine? Are certain variables more impactful and important than others? Do certain variables have a threshold after which the quality sharply decreases?**\n",
    "\n",
    "The goal of the project will be to answer these two questions by making a scatter plot graph that compares the wines on both an individual and group level. We will also do a classification of the wines in order to better visualize their quality. Finally, the alcohol content affects its flavour, texture, and overall quality. All of these factors must be considered when trying to answer our question. \n",
    "\n",
    "The dataset which will be used is data collected by Paulo Cortez, from the University of Minho in Portugal. He, along with A. Cerdeira, F. Almeida, T. Matos and J. Reis, Viticulture Commission of the Vinho Verde Region(CVRVV), Porto, Portugal collected data about the Vinho Verde wines that have been grown in Northern Portugal. This dataset (from 2009) specifically only takes into account the physicochemical qualities of the wine such as acidity, pH,sulphates, residual sugars and more however it ignores things such as grape type, wine brand, selling price, or other things that could be left as a subjective preference of each person.\n",
    "\n",
    "**Citation:**\n",
    "\n",
    "P. Cortez, A. Cerdeira, F. Almeida, T. Matos, and J. Reis.\n",
    "Modeling wine preferences by data mining from physicochemical properties. In Decision Support Systems, Elsevier, 47(4):547-553, 2009\n",
    "\n",
    "### Method\n",
    " We will conduct our data analysis by creating a histogram graph and individually assessing how each variable changes the quality of the wine. We will also be removing 4 columns that we believe have little to no change throughout all of the data. For example fixed acidity is always going to be fixed and as such will have no change. This means that it is completely useless to have an unchanging variable within our data. We will also be removing density, free and total sulfur dioxide as the difference in values is very small and as such will not have much of a noticeable impact on the quality of the wine. All 8 other columns that we will be using however all have significant impact upon the quality of the wine and as such it is extremely important to see how their variability changes the wine and which one has the biggest impact with the smallest change.\n",
    "One way that we will visualize the result is to make a histogram graph. On the y-axis we will have the quality of the wine on a 1-10 scale and on the x-axis we will have our other variable that it is being compared to i.e. residual sugar, sulphates, volatile acidity etc. This will allow us to have many graphs that show how each variable changes the overall quality of the wine.\n",
    "\n",
    "### Expected Outcomes and Significance\n",
    "1. **What do we expect to find?**\n",
    "\n",
    "We expect to find which variables have the biggest impact on the wine and whether or not certain variables are simply more impactful than others. It would also be interesting to see if a certain variable has a “breaking point” or a spot where the quality will sharply drop as soon as it hits that threshold. For example if after volatile hits 0.4 we see exponential change in the wine quality. Lastly, we would like to see what the ideal level of each variable is in order to achieve the perfect (or closest to it) vinho verde.\n",
    "\n",
    "2. **What impact could such findings have?**\n",
    "\n",
    "Determining wine quality can promote wine testing and ensure safety within not only wine sectors, but the overall food and beverage industry.  Being able to determine the quality of a commodity can inform consumers and motivate sellers to consistently improve their practice and uphold a certain standard of quality. Furthermore, the quality of wine can serve as a reflection of its contents, which provide an important insight as to whether the wine is safe to drink and follows food health and safety guidelines. \n",
    "\n",
    "3. **What future questions could this lead to?**\n",
    "\n",
    "Knowing which variables are more impactful and which ones need to be focused on more can be an important tool for winemakers in order to perfect their craft. If they know that pH is a particularly sensitive variable that quality shifts sharply with them a point can be made in order to focus on refining the winemaking process to ensure the stability of pH throughout. This can also be used the other way where knowing that certain variables can be compromised ex. citric acid then winemakers can focus less on making something that is super stable in its citric acid in favour of a process that increases/decreases the level of citric acid in order to perfect the level of pH and increase the quality of their wine. \n"
   ]
  },
  {
   "cell_type": "markdown",
   "id": "19cc8157-7c97-4caf-89fd-9625b72fad06",
   "metadata": {},
   "source": [
    "Preliminary exploratory data analysis"
   ]
  },
  {
   "cell_type": "code",
   "execution_count": 13,
   "id": "d2e1c0b6-e26c-4289-a56f-cfd72c7c685e",
   "metadata": {},
   "outputs": [],
   "source": [
    "library(tidyverse)\n",
    "library(digest)\n",
    "library(repr)\n",
    "library(tidymodels)\n",
    "options(repr.matrix.max.rows = 6)"
   ]
  },
  {
   "cell_type": "code",
   "execution_count": 4,
   "id": "9e774255-ae37-45ee-9df2-8fb292e809a8",
   "metadata": {},
   "outputs": [
    {
     "name": "stderr",
     "output_type": "stream",
     "text": [
      "\u001b[36mℹ\u001b[39m Using \u001b[34m\u001b[34m\"','\"\u001b[34m\u001b[39m as decimal and \u001b[34m\u001b[34m\"'.'\"\u001b[34m\u001b[39m as grouping mark. Use `read_delim()` for more control.\n",
      "\n",
      "Warning message:\n",
      "“One or more parsing issues, see `problems()` for details”\n",
      "\u001b[1mRows: \u001b[22m\u001b[34m1599\u001b[39m \u001b[1mColumns: \u001b[22m\u001b[34m12\u001b[39m\n",
      "\u001b[36m──\u001b[39m \u001b[1mColumn specification\u001b[22m \u001b[36m────────────────────────────────────────────────────────\u001b[39m\n",
      "\u001b[1mDelimiter:\u001b[22m \";\"\n",
      "\u001b[31mchr\u001b[39m (5): volatile acidity, citric acid, chlorides, density, sulphates\n",
      "\u001b[32mdbl\u001b[39m (2): total sulfur dioxide, quality\n",
      "\n",
      "\u001b[36mℹ\u001b[39m Use `spec()` to retrieve the full column specification for this data.\n",
      "\u001b[36mℹ\u001b[39m Specify the column types or set `show_col_types = FALSE` to quiet this message.\n"
     ]
    }
   ],
   "source": [
    "url <- \"https://archive.ics.uci.edu/ml/machine-learning-databases/wine-quality/winequality-red.csv\"\n",
    "wine_red <- read_csv2(url)"
   ]
  },
  {
   "cell_type": "code",
   "execution_count": 5,
   "id": "9a56bce4-dcf3-44aa-8c86-91719ec3d8e6",
   "metadata": {},
   "outputs": [
    {
     "data": {
      "text/html": [
       "<table class=\"dataframe\">\n",
       "<caption>A tibble: 1599 × 8</caption>\n",
       "<thead>\n",
       "\t<tr><th scope=col>volatile.acidity</th><th scope=col>citric.acid</th><th scope=col>residual.sugar</th><th scope=col>chlorides</th><th scope=col>pH</th><th scope=col>sulphates</th><th scope=col>alcohol</th><th scope=col>quality</th></tr>\n",
       "\t<tr><th scope=col>&lt;dbl&gt;</th><th scope=col>&lt;dbl&gt;</th><th scope=col>&lt;dbl&gt;</th><th scope=col>&lt;dbl&gt;</th><th scope=col>&lt;dbl&gt;</th><th scope=col>&lt;dbl&gt;</th><th scope=col>&lt;dbl&gt;</th><th scope=col>&lt;dbl&gt;</th></tr>\n",
       "</thead>\n",
       "<tbody>\n",
       "\t<tr><td>0.70</td><td>0.00</td><td>19</td><td>0.076</td><td>351</td><td>0.56</td><td>94</td><td>5</td></tr>\n",
       "\t<tr><td>0.88</td><td>0.00</td><td>26</td><td>0.098</td><td> 32</td><td>0.68</td><td>98</td><td>5</td></tr>\n",
       "\t<tr><td>0.76</td><td>0.04</td><td>23</td><td>0.092</td><td>326</td><td>0.65</td><td>98</td><td>5</td></tr>\n",
       "\t<tr><td>⋮</td><td>⋮</td><td>⋮</td><td>⋮</td><td>⋮</td><td>⋮</td><td>⋮</td><td>⋮</td></tr>\n",
       "\t<tr><td>0.510</td><td>0.13</td><td>23</td><td>0.076</td><td>342</td><td>0.75</td><td> 11</td><td>6</td></tr>\n",
       "\t<tr><td>0.645</td><td>0.12</td><td> 2</td><td>0.075</td><td>357</td><td>0.71</td><td>102</td><td>5</td></tr>\n",
       "\t<tr><td>0.310</td><td>0.47</td><td>36</td><td>0.067</td><td>339</td><td>0.66</td><td> 11</td><td>6</td></tr>\n",
       "</tbody>\n",
       "</table>\n"
      ],
      "text/latex": [
       "A tibble: 1599 × 8\n",
       "\\begin{tabular}{llllllll}\n",
       " volatile.acidity & citric.acid & residual.sugar & chlorides & pH & sulphates & alcohol & quality\\\\\n",
       " <dbl> & <dbl> & <dbl> & <dbl> & <dbl> & <dbl> & <dbl> & <dbl>\\\\\n",
       "\\hline\n",
       "\t 0.70 & 0.00 & 19 & 0.076 & 351 & 0.56 & 94 & 5\\\\\n",
       "\t 0.88 & 0.00 & 26 & 0.098 &  32 & 0.68 & 98 & 5\\\\\n",
       "\t 0.76 & 0.04 & 23 & 0.092 & 326 & 0.65 & 98 & 5\\\\\n",
       "\t ⋮ & ⋮ & ⋮ & ⋮ & ⋮ & ⋮ & ⋮ & ⋮\\\\\n",
       "\t 0.510 & 0.13 & 23 & 0.076 & 342 & 0.75 &  11 & 6\\\\\n",
       "\t 0.645 & 0.12 &  2 & 0.075 & 357 & 0.71 & 102 & 5\\\\\n",
       "\t 0.310 & 0.47 & 36 & 0.067 & 339 & 0.66 &  11 & 6\\\\\n",
       "\\end{tabular}\n"
      ],
      "text/markdown": [
       "\n",
       "A tibble: 1599 × 8\n",
       "\n",
       "| volatile.acidity &lt;dbl&gt; | citric.acid &lt;dbl&gt; | residual.sugar &lt;dbl&gt; | chlorides &lt;dbl&gt; | pH &lt;dbl&gt; | sulphates &lt;dbl&gt; | alcohol &lt;dbl&gt; | quality &lt;dbl&gt; |\n",
       "|---|---|---|---|---|---|---|---|\n",
       "| 0.70 | 0.00 | 19 | 0.076 | 351 | 0.56 | 94 | 5 |\n",
       "| 0.88 | 0.00 | 26 | 0.098 |  32 | 0.68 | 98 | 5 |\n",
       "| 0.76 | 0.04 | 23 | 0.092 | 326 | 0.65 | 98 | 5 |\n",
       "| ⋮ | ⋮ | ⋮ | ⋮ | ⋮ | ⋮ | ⋮ | ⋮ |\n",
       "| 0.510 | 0.13 | 23 | 0.076 | 342 | 0.75 |  11 | 6 |\n",
       "| 0.645 | 0.12 |  2 | 0.075 | 357 | 0.71 | 102 | 5 |\n",
       "| 0.310 | 0.47 | 36 | 0.067 | 339 | 0.66 |  11 | 6 |\n",
       "\n"
      ],
      "text/plain": [
       "     volatile.acidity citric.acid residual.sugar chlorides pH  sulphates\n",
       "1    0.70             0.00        19             0.076     351 0.56     \n",
       "2    0.88             0.00        26             0.098      32 0.68     \n",
       "3    0.76             0.04        23             0.092     326 0.65     \n",
       "⋮    ⋮                ⋮           ⋮              ⋮         ⋮   ⋮        \n",
       "1597 0.510            0.13        23             0.076     342 0.75     \n",
       "1598 0.645            0.12         2             0.075     357 0.71     \n",
       "1599 0.310            0.47        36             0.067     339 0.66     \n",
       "     alcohol quality\n",
       "1    94      5      \n",
       "2    98      5      \n",
       "3    98      5      \n",
       "⋮    ⋮       ⋮      \n",
       "1597  11     6      \n",
       "1598 102     5      \n",
       "1599  11     6      "
      ]
     },
     "metadata": {},
     "output_type": "display_data"
    }
   ],
   "source": [
    "colnames(wine_red) <- make.names(colnames(wine_red))\n",
    "wine_red <- wine_red |>\n",
    "            mutate(volatile.acidity = as.double(volatile.acidity),\n",
    "                  citric.acid = as.double(citric.acid),\n",
    "                  chlorides = as.double(chlorides),\n",
    "                  alcohol = as.double(alcohol),\n",
    "                  sulphates = as.double(sulphates)) |>\n",
    "            select(-fixed.acidity, -free.sulfur.dioxide, -total.sulfur.dioxide, -density)\n",
    "\n",
    "wine_red"
   ]
  },
  {
   "cell_type": "code",
   "execution_count": 6,
   "id": "d311d080-94dd-4b03-9f09-2f41d618d187",
   "metadata": {},
   "outputs": [
    {
     "data": {
      "text/html": [
       "<table class=\"dataframe\">\n",
       "<caption>A tibble: 1198 × 8</caption>\n",
       "<thead>\n",
       "\t<tr><th scope=col>volatile.acidity</th><th scope=col>citric.acid</th><th scope=col>residual.sugar</th><th scope=col>chlorides</th><th scope=col>pH</th><th scope=col>sulphates</th><th scope=col>alcohol</th><th scope=col>quality</th></tr>\n",
       "\t<tr><th scope=col>&lt;dbl&gt;</th><th scope=col>&lt;dbl&gt;</th><th scope=col>&lt;dbl&gt;</th><th scope=col>&lt;dbl&gt;</th><th scope=col>&lt;dbl&gt;</th><th scope=col>&lt;dbl&gt;</th><th scope=col>&lt;dbl&gt;</th><th scope=col>&lt;dbl&gt;</th></tr>\n",
       "</thead>\n",
       "<tbody>\n",
       "\t<tr><td>0.70</td><td>0.00</td><td>19</td><td>0.076</td><td>351</td><td>0.56</td><td>94</td><td>5</td></tr>\n",
       "\t<tr><td>0.88</td><td>0.00</td><td>26</td><td>0.098</td><td> 32</td><td>0.68</td><td>98</td><td>5</td></tr>\n",
       "\t<tr><td>0.76</td><td>0.04</td><td>23</td><td>0.092</td><td>326</td><td>0.65</td><td>98</td><td>5</td></tr>\n",
       "\t<tr><td>⋮</td><td>⋮</td><td>⋮</td><td>⋮</td><td>⋮</td><td>⋮</td><td>⋮</td><td>⋮</td></tr>\n",
       "\t<tr><td>0.37</td><td>0.43</td><td>23</td><td>0.063</td><td>317</td><td>0.81</td><td> 112</td><td>7</td></tr>\n",
       "\t<tr><td>0.36</td><td>0.30</td><td>18</td><td>0.074</td><td>324</td><td>0.70</td><td> 114</td><td>8</td></tr>\n",
       "\t<tr><td>0.56</td><td>0.17</td><td>17</td><td>0.065</td><td>344</td><td>0.68</td><td>1055</td><td>7</td></tr>\n",
       "</tbody>\n",
       "</table>\n"
      ],
      "text/latex": [
       "A tibble: 1198 × 8\n",
       "\\begin{tabular}{llllllll}\n",
       " volatile.acidity & citric.acid & residual.sugar & chlorides & pH & sulphates & alcohol & quality\\\\\n",
       " <dbl> & <dbl> & <dbl> & <dbl> & <dbl> & <dbl> & <dbl> & <dbl>\\\\\n",
       "\\hline\n",
       "\t 0.70 & 0.00 & 19 & 0.076 & 351 & 0.56 & 94 & 5\\\\\n",
       "\t 0.88 & 0.00 & 26 & 0.098 &  32 & 0.68 & 98 & 5\\\\\n",
       "\t 0.76 & 0.04 & 23 & 0.092 & 326 & 0.65 & 98 & 5\\\\\n",
       "\t ⋮ & ⋮ & ⋮ & ⋮ & ⋮ & ⋮ & ⋮ & ⋮\\\\\n",
       "\t 0.37 & 0.43 & 23 & 0.063 & 317 & 0.81 &  112 & 7\\\\\n",
       "\t 0.36 & 0.30 & 18 & 0.074 & 324 & 0.70 &  114 & 8\\\\\n",
       "\t 0.56 & 0.17 & 17 & 0.065 & 344 & 0.68 & 1055 & 7\\\\\n",
       "\\end{tabular}\n"
      ],
      "text/markdown": [
       "\n",
       "A tibble: 1198 × 8\n",
       "\n",
       "| volatile.acidity &lt;dbl&gt; | citric.acid &lt;dbl&gt; | residual.sugar &lt;dbl&gt; | chlorides &lt;dbl&gt; | pH &lt;dbl&gt; | sulphates &lt;dbl&gt; | alcohol &lt;dbl&gt; | quality &lt;dbl&gt; |\n",
       "|---|---|---|---|---|---|---|---|\n",
       "| 0.70 | 0.00 | 19 | 0.076 | 351 | 0.56 | 94 | 5 |\n",
       "| 0.88 | 0.00 | 26 | 0.098 |  32 | 0.68 | 98 | 5 |\n",
       "| 0.76 | 0.04 | 23 | 0.092 | 326 | 0.65 | 98 | 5 |\n",
       "| ⋮ | ⋮ | ⋮ | ⋮ | ⋮ | ⋮ | ⋮ | ⋮ |\n",
       "| 0.37 | 0.43 | 23 | 0.063 | 317 | 0.81 |  112 | 7 |\n",
       "| 0.36 | 0.30 | 18 | 0.074 | 324 | 0.70 |  114 | 8 |\n",
       "| 0.56 | 0.17 | 17 | 0.065 | 344 | 0.68 | 1055 | 7 |\n",
       "\n"
      ],
      "text/plain": [
       "     volatile.acidity citric.acid residual.sugar chlorides pH  sulphates\n",
       "1    0.70             0.00        19             0.076     351 0.56     \n",
       "2    0.88             0.00        26             0.098      32 0.68     \n",
       "3    0.76             0.04        23             0.092     326 0.65     \n",
       "⋮    ⋮                ⋮           ⋮              ⋮         ⋮   ⋮        \n",
       "1196 0.37             0.43        23             0.063     317 0.81     \n",
       "1197 0.36             0.30        18             0.074     324 0.70     \n",
       "1198 0.56             0.17        17             0.065     344 0.68     \n",
       "     alcohol quality\n",
       "1    94      5      \n",
       "2    98      5      \n",
       "3    98      5      \n",
       "⋮    ⋮       ⋮      \n",
       "1196  112    7      \n",
       "1197  114    8      \n",
       "1198 1055    7      "
      ]
     },
     "metadata": {},
     "output_type": "display_data"
    }
   ],
   "source": [
    "wine_split <- initial_split(wine_red, prop = 0.75, strata = quality)\n",
    "wine_train <- training(wine_split)\n",
    "wine_test <- testing(wine_split)\n",
    "\n",
    "wine_train"
   ]
  },
  {
   "cell_type": "code",
   "execution_count": 10,
   "id": "7048d3b7-84db-446f-ad2a-05c56d55597f",
   "metadata": {},
   "outputs": [
    {
     "data": {
      "text/html": [
       "<table class=\"dataframe\">\n",
       "<caption>A tibble: 1 × 8</caption>\n",
       "<thead>\n",
       "\t<tr><th scope=col>volatile.acidity</th><th scope=col>citric.acid</th><th scope=col>residual.sugar</th><th scope=col>chlorides</th><th scope=col>pH</th><th scope=col>sulphates</th><th scope=col>alcohol</th><th scope=col>quality</th></tr>\n",
       "\t<tr><th scope=col>&lt;dbl&gt;</th><th scope=col>&lt;dbl&gt;</th><th scope=col>&lt;dbl&gt;</th><th scope=col>&lt;dbl&gt;</th><th scope=col>&lt;dbl&gt;</th><th scope=col>&lt;dbl&gt;</th><th scope=col>&lt;dbl&gt;</th><th scope=col>&lt;dbl&gt;</th></tr>\n",
       "</thead>\n",
       "<tbody>\n",
       "\t<tr><td>0.5261603</td><td>0.2737229</td><td>25.93155</td><td>0.08898164</td><td>296.8589</td><td>0.6583639</td><td>1.766277e+12</td><td>5.631886</td></tr>\n",
       "</tbody>\n",
       "</table>\n"
      ],
      "text/latex": [
       "A tibble: 1 × 8\n",
       "\\begin{tabular}{llllllll}\n",
       " volatile.acidity & citric.acid & residual.sugar & chlorides & pH & sulphates & alcohol & quality\\\\\n",
       " <dbl> & <dbl> & <dbl> & <dbl> & <dbl> & <dbl> & <dbl> & <dbl>\\\\\n",
       "\\hline\n",
       "\t 0.5261603 & 0.2737229 & 25.93155 & 0.08898164 & 296.8589 & 0.6583639 & 1.766277e+12 & 5.631886\\\\\n",
       "\\end{tabular}\n"
      ],
      "text/markdown": [
       "\n",
       "A tibble: 1 × 8\n",
       "\n",
       "| volatile.acidity &lt;dbl&gt; | citric.acid &lt;dbl&gt; | residual.sugar &lt;dbl&gt; | chlorides &lt;dbl&gt; | pH &lt;dbl&gt; | sulphates &lt;dbl&gt; | alcohol &lt;dbl&gt; | quality &lt;dbl&gt; |\n",
       "|---|---|---|---|---|---|---|---|\n",
       "| 0.5261603 | 0.2737229 | 25.93155 | 0.08898164 | 296.8589 | 0.6583639 | 1.766277e+12 | 5.631886 |\n",
       "\n"
      ],
      "text/plain": [
       "  volatile.acidity citric.acid residual.sugar chlorides  pH       sulphates\n",
       "1 0.5261603        0.2737229   25.93155       0.08898164 296.8589 0.6583639\n",
       "  alcohol      quality \n",
       "1 1.766277e+12 5.631886"
      ]
     },
     "metadata": {},
     "output_type": "display_data"
    }
   ],
   "source": [
    "means <- map_df(wine_train, mean)\n",
    "means"
   ]
  },
  {
   "cell_type": "code",
   "execution_count": null,
   "id": "678e1957-3bc0-4fe7-90ab-85548b412fea",
   "metadata": {},
   "outputs": [],
   "source": []
  }
 ],
 "metadata": {
  "kernelspec": {
   "display_name": "R",
   "language": "R",
   "name": "ir"
  },
  "language_info": {
   "codemirror_mode": "r",
   "file_extension": ".r",
   "mimetype": "text/x-r-source",
   "name": "R",
   "pygments_lexer": "r",
   "version": "4.1.3"
  }
 },
 "nbformat": 4,
 "nbformat_minor": 5
}
