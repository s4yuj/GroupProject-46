{
 "cells": [
  {
   "cell_type": "markdown",
   "id": "f9ec6552-9137-486e-8e80-49c8225c8aa0",
   "metadata": {},
   "source": [
    "# Vinho Verde: Wine Quality Analysis"
   ]
  },
  {
   "cell_type": "markdown",
   "id": "ba989799-b6e2-4e66-8ac2-59f95181ac29",
   "metadata": {},
   "source": [
    "## Introduction\n",
    "\n",
    "Wine is a type of alcoholic beverage made from the fermentation of grape juice. There are many factors which determine the final quality of wine: The volatile acidity is usually the measure of acetic acid in wine, if the VA is above a certain threshold the wine is considered spoiled and will taste like vinegar. On the other hand, citric acid is used to increase acidity and enhance the flavour of the wine. The residual sugar in wine is the leftover sugar from the grapes after the fermentation process; higher sugar levels increase the sweetness of the wine. While the sugar controls sweetness, chloride contributes to the saltiness of wine, more sodium chloride creates a saltier beverage. PH is essential to wine quality, low pH makes the taste of wine crisp and tart, whereas a high pH results in susceptibility to bacterial growth. Along with this, higher sulphate content also decreases the quality of wine, making it taste duller. \n",
    " \n",
    "**How do different variables change the overall quality of the wine? Are certain variables more impactful and important than others? Do certain variables have a threshold after which the quality sharply decreases?**\n",
    "\n",
    "The goal of the project will be to answer these two questions by making a scatter plot graph that compares the wines on both an individual and group level. We will also do a classification of the wines in order to better visualize their quality. Finally, the alcohol content affects its flavour, texture, and overall quality. All of these factors must be considered when trying to answer our question. \n",
    "\n",
    "The dataset which will be used is data collected by Paulo Cortez, from the University of Minho in Portugal. He, along with A. Cerdeira, F. Almeida, T. Matos and J. Reis, Viticulture Commission of the Vinho Verde Region(CVRVV), Porto, Portugal collected data about the Vinho Verde wines that have been grown in Northern Portugal. This dataset (from 2009) specifically only takes into account the physicochemical qualities of the wine such as acidity, pH,sulphates, residual sugars and more however it ignores things such as grape type, wine brand, selling price, or other things that could be left as a subjective preference of each person.\n",
    "\n",
    "**Citation:**\n",
    "\n",
    "P. Cortez, A. Cerdeira, F. Almeida, T. Matos, and J. Reis.\n",
    "Modeling wine preferences by data mining from physicochemical properties. In Decision Support Systems, Elsevier, 47(4):547-553, 2009"
   ]
  },
  {
   "cell_type": "markdown",
   "id": "19cc8157-7c97-4caf-89fd-9625b72fad06",
   "metadata": {},
   "source": [
    "## Preliminary exploratory data analysis"
   ]
  },
  {
   "cell_type": "code",
   "execution_count": 116,
   "id": "d2e1c0b6-e26c-4289-a56f-cfd72c7c685e",
   "metadata": {},
   "outputs": [],
   "source": [
    "library(tidyverse)\n",
    "library(digest)\n",
    "library(repr)\n",
    "library(tidymodels)\n",
    "options(repr.matrix.max.rows = 6)"
   ]
  },
  {
   "cell_type": "markdown",
   "id": "bbd05844-0a1c-47f1-b097-d65b095950c2",
   "metadata": {},
   "source": [
    "We use the `read_csv2()` function to read the file from the web."
   ]
  },
  {
   "cell_type": "code",
   "execution_count": 117,
   "id": "9e774255-ae37-45ee-9df2-8fb292e809a8",
   "metadata": {},
   "outputs": [
    {
     "name": "stderr",
     "output_type": "stream",
     "text": [
      "\u001b[36mℹ\u001b[39m Using \u001b[34m\u001b[34m\"','\"\u001b[34m\u001b[39m as decimal and \u001b[34m\u001b[34m\"'.'\"\u001b[34m\u001b[39m as grouping mark. Use `read_delim()` for more control.\n",
      "\n",
      "Warning message:\n",
      "“One or more parsing issues, see `problems()` for details”\n",
      "\u001b[1mRows: \u001b[22m\u001b[34m1599\u001b[39m \u001b[1mColumns: \u001b[22m\u001b[34m12\u001b[39m\n",
      "\u001b[36m──\u001b[39m \u001b[1mColumn specification\u001b[22m \u001b[36m────────────────────────────────────────────────────────\u001b[39m\n",
      "\u001b[1mDelimiter:\u001b[22m \";\"\n",
      "\u001b[31mchr\u001b[39m (5): volatile acidity, citric acid, chlorides, density, sulphates\n",
      "\u001b[32mdbl\u001b[39m (2): total sulfur dioxide, quality\n",
      "\n",
      "\u001b[36mℹ\u001b[39m Use `spec()` to retrieve the full column specification for this data.\n",
      "\u001b[36mℹ\u001b[39m Specify the column types or set `show_col_types = FALSE` to quiet this message.\n"
     ]
    }
   ],
   "source": [
    "url <- \"https://archive.ics.uci.edu/ml/machine-learning-databases/wine-quality/winequality-red.csv\"\n",
    "wine_red <- read_csv2(url)"
   ]
  },
  {
   "cell_type": "markdown",
   "id": "7fbb167a-0991-47c4-b53b-d18967d1c0dd",
   "metadata": {},
   "source": [
    "We clean the column names to remove spaces using `make.names`, then change the datatypes of columns to dbl using `mutate()` and `as.double()` and finally remove the columns we dont wish to use using `select()`."
   ]
  },
  {
   "cell_type": "code",
   "execution_count": 118,
   "id": "9a56bce4-dcf3-44aa-8c86-91719ec3d8e6",
   "metadata": {},
   "outputs": [
    {
     "data": {
      "text/html": [
       "<table class=\"dataframe\">\n",
       "<caption>A tibble: 1599 × 8</caption>\n",
       "<thead>\n",
       "\t<tr><th scope=col>fixed.acidity</th><th scope=col>volatile.acidity</th><th scope=col>citric.acid</th><th scope=col>residual.sugar</th><th scope=col>chlorides</th><th scope=col>total.sulfur.dioxide</th><th scope=col>sulphates</th><th scope=col>quality</th></tr>\n",
       "\t<tr><th scope=col>&lt;dbl&gt;</th><th scope=col>&lt;dbl&gt;</th><th scope=col>&lt;dbl&gt;</th><th scope=col>&lt;dbl&gt;</th><th scope=col>&lt;dbl&gt;</th><th scope=col>&lt;dbl&gt;</th><th scope=col>&lt;dbl&gt;</th><th scope=col>&lt;dbl&gt;</th></tr>\n",
       "</thead>\n",
       "<tbody>\n",
       "\t<tr><td>74</td><td>0.70</td><td>0.00</td><td>19</td><td>0.076</td><td>34</td><td>0.56</td><td>5</td></tr>\n",
       "\t<tr><td>78</td><td>0.88</td><td>0.00</td><td>26</td><td>0.098</td><td>67</td><td>0.68</td><td>5</td></tr>\n",
       "\t<tr><td>78</td><td>0.76</td><td>0.04</td><td>23</td><td>0.092</td><td>54</td><td>0.65</td><td>5</td></tr>\n",
       "\t<tr><td>⋮</td><td>⋮</td><td>⋮</td><td>⋮</td><td>⋮</td><td>⋮</td><td>⋮</td><td>⋮</td></tr>\n",
       "\t<tr><td>63</td><td>0.510</td><td>0.13</td><td>23</td><td>0.076</td><td>40</td><td>0.75</td><td>6</td></tr>\n",
       "\t<tr><td>59</td><td>0.645</td><td>0.12</td><td> 2</td><td>0.075</td><td>44</td><td>0.71</td><td>5</td></tr>\n",
       "\t<tr><td> 6</td><td>0.310</td><td>0.47</td><td>36</td><td>0.067</td><td>42</td><td>0.66</td><td>6</td></tr>\n",
       "</tbody>\n",
       "</table>\n"
      ],
      "text/latex": [
       "A tibble: 1599 × 8\n",
       "\\begin{tabular}{llllllll}\n",
       " fixed.acidity & volatile.acidity & citric.acid & residual.sugar & chlorides & total.sulfur.dioxide & sulphates & quality\\\\\n",
       " <dbl> & <dbl> & <dbl> & <dbl> & <dbl> & <dbl> & <dbl> & <dbl>\\\\\n",
       "\\hline\n",
       "\t 74 & 0.70 & 0.00 & 19 & 0.076 & 34 & 0.56 & 5\\\\\n",
       "\t 78 & 0.88 & 0.00 & 26 & 0.098 & 67 & 0.68 & 5\\\\\n",
       "\t 78 & 0.76 & 0.04 & 23 & 0.092 & 54 & 0.65 & 5\\\\\n",
       "\t ⋮ & ⋮ & ⋮ & ⋮ & ⋮ & ⋮ & ⋮ & ⋮\\\\\n",
       "\t 63 & 0.510 & 0.13 & 23 & 0.076 & 40 & 0.75 & 6\\\\\n",
       "\t 59 & 0.645 & 0.12 &  2 & 0.075 & 44 & 0.71 & 5\\\\\n",
       "\t  6 & 0.310 & 0.47 & 36 & 0.067 & 42 & 0.66 & 6\\\\\n",
       "\\end{tabular}\n"
      ],
      "text/markdown": [
       "\n",
       "A tibble: 1599 × 8\n",
       "\n",
       "| fixed.acidity &lt;dbl&gt; | volatile.acidity &lt;dbl&gt; | citric.acid &lt;dbl&gt; | residual.sugar &lt;dbl&gt; | chlorides &lt;dbl&gt; | total.sulfur.dioxide &lt;dbl&gt; | sulphates &lt;dbl&gt; | quality &lt;dbl&gt; |\n",
       "|---|---|---|---|---|---|---|---|\n",
       "| 74 | 0.70 | 0.00 | 19 | 0.076 | 34 | 0.56 | 5 |\n",
       "| 78 | 0.88 | 0.00 | 26 | 0.098 | 67 | 0.68 | 5 |\n",
       "| 78 | 0.76 | 0.04 | 23 | 0.092 | 54 | 0.65 | 5 |\n",
       "| ⋮ | ⋮ | ⋮ | ⋮ | ⋮ | ⋮ | ⋮ | ⋮ |\n",
       "| 63 | 0.510 | 0.13 | 23 | 0.076 | 40 | 0.75 | 6 |\n",
       "| 59 | 0.645 | 0.12 |  2 | 0.075 | 44 | 0.71 | 5 |\n",
       "|  6 | 0.310 | 0.47 | 36 | 0.067 | 42 | 0.66 | 6 |\n",
       "\n"
      ],
      "text/plain": [
       "     fixed.acidity volatile.acidity citric.acid residual.sugar chlorides\n",
       "1    74            0.70             0.00        19             0.076    \n",
       "2    78            0.88             0.00        26             0.098    \n",
       "3    78            0.76             0.04        23             0.092    \n",
       "⋮    ⋮             ⋮                ⋮           ⋮              ⋮        \n",
       "1597 63            0.510            0.13        23             0.076    \n",
       "1598 59            0.645            0.12         2             0.075    \n",
       "1599  6            0.310            0.47        36             0.067    \n",
       "     total.sulfur.dioxide sulphates quality\n",
       "1    34                   0.56      5      \n",
       "2    67                   0.68      5      \n",
       "3    54                   0.65      5      \n",
       "⋮    ⋮                    ⋮         ⋮      \n",
       "1597 40                   0.75      6      \n",
       "1598 44                   0.71      5      \n",
       "1599 42                   0.66      6      "
      ]
     },
     "metadata": {},
     "output_type": "display_data"
    }
   ],
   "source": [
    "colnames(wine_red) <- make.names(colnames(wine_red))\n",
    "\n",
    "wine_red <- wine_red |>\n",
    "            mutate(across(fixed.acidity:sulphates, as.double)) |>\n",
    "            select(-free.sulfur.dioxide, -pH, -alcohol, -density)\n",
    "\n",
    "wine_red"
   ]
  },
  {
   "cell_type": "markdown",
   "id": "2a0bbf6e-4f24-457c-8096-8b18eb5ac5c2",
   "metadata": {},
   "source": [
    "Splitting the dataset into training and testing sets."
   ]
  },
  {
   "cell_type": "code",
   "execution_count": 119,
   "id": "d311d080-94dd-4b03-9f09-2f41d618d187",
   "metadata": {},
   "outputs": [
    {
     "data": {
      "text/html": [
       "<table class=\"dataframe\">\n",
       "<caption>A tibble: 1198 × 8</caption>\n",
       "<thead>\n",
       "\t<tr><th scope=col>fixed.acidity</th><th scope=col>volatile.acidity</th><th scope=col>citric.acid</th><th scope=col>residual.sugar</th><th scope=col>chlorides</th><th scope=col>total.sulfur.dioxide</th><th scope=col>sulphates</th><th scope=col>quality</th></tr>\n",
       "\t<tr><th scope=col>&lt;dbl&gt;</th><th scope=col>&lt;dbl&gt;</th><th scope=col>&lt;dbl&gt;</th><th scope=col>&lt;dbl&gt;</th><th scope=col>&lt;dbl&gt;</th><th scope=col>&lt;dbl&gt;</th><th scope=col>&lt;dbl&gt;</th><th scope=col>&lt;dbl&gt;</th></tr>\n",
       "</thead>\n",
       "<tbody>\n",
       "\t<tr><td>74</td><td>0.70</td><td>0.00</td><td>19</td><td>0.076</td><td>34</td><td>0.56</td><td>5</td></tr>\n",
       "\t<tr><td>78</td><td>0.88</td><td>0.00</td><td>26</td><td>0.098</td><td>67</td><td>0.68</td><td>5</td></tr>\n",
       "\t<tr><td>78</td><td>0.76</td><td>0.04</td><td>23</td><td>0.092</td><td>54</td><td>0.65</td><td>5</td></tr>\n",
       "\t<tr><td>⋮</td><td>⋮</td><td>⋮</td><td>⋮</td><td>⋮</td><td>⋮</td><td>⋮</td><td>⋮</td></tr>\n",
       "\t<tr><td>84</td><td>0.37</td><td>0.43</td><td>23</td><td>0.063</td><td>19</td><td>0.81</td><td>7</td></tr>\n",
       "\t<tr><td>74</td><td>0.36</td><td>0.30</td><td>18</td><td>0.074</td><td>24</td><td>0.70</td><td>8</td></tr>\n",
       "\t<tr><td> 7</td><td>0.56</td><td>0.17</td><td>17</td><td>0.065</td><td>24</td><td>0.68</td><td>7</td></tr>\n",
       "</tbody>\n",
       "</table>\n"
      ],
      "text/latex": [
       "A tibble: 1198 × 8\n",
       "\\begin{tabular}{llllllll}\n",
       " fixed.acidity & volatile.acidity & citric.acid & residual.sugar & chlorides & total.sulfur.dioxide & sulphates & quality\\\\\n",
       " <dbl> & <dbl> & <dbl> & <dbl> & <dbl> & <dbl> & <dbl> & <dbl>\\\\\n",
       "\\hline\n",
       "\t 74 & 0.70 & 0.00 & 19 & 0.076 & 34 & 0.56 & 5\\\\\n",
       "\t 78 & 0.88 & 0.00 & 26 & 0.098 & 67 & 0.68 & 5\\\\\n",
       "\t 78 & 0.76 & 0.04 & 23 & 0.092 & 54 & 0.65 & 5\\\\\n",
       "\t ⋮ & ⋮ & ⋮ & ⋮ & ⋮ & ⋮ & ⋮ & ⋮\\\\\n",
       "\t 84 & 0.37 & 0.43 & 23 & 0.063 & 19 & 0.81 & 7\\\\\n",
       "\t 74 & 0.36 & 0.30 & 18 & 0.074 & 24 & 0.70 & 8\\\\\n",
       "\t  7 & 0.56 & 0.17 & 17 & 0.065 & 24 & 0.68 & 7\\\\\n",
       "\\end{tabular}\n"
      ],
      "text/markdown": [
       "\n",
       "A tibble: 1198 × 8\n",
       "\n",
       "| fixed.acidity &lt;dbl&gt; | volatile.acidity &lt;dbl&gt; | citric.acid &lt;dbl&gt; | residual.sugar &lt;dbl&gt; | chlorides &lt;dbl&gt; | total.sulfur.dioxide &lt;dbl&gt; | sulphates &lt;dbl&gt; | quality &lt;dbl&gt; |\n",
       "|---|---|---|---|---|---|---|---|\n",
       "| 74 | 0.70 | 0.00 | 19 | 0.076 | 34 | 0.56 | 5 |\n",
       "| 78 | 0.88 | 0.00 | 26 | 0.098 | 67 | 0.68 | 5 |\n",
       "| 78 | 0.76 | 0.04 | 23 | 0.092 | 54 | 0.65 | 5 |\n",
       "| ⋮ | ⋮ | ⋮ | ⋮ | ⋮ | ⋮ | ⋮ | ⋮ |\n",
       "| 84 | 0.37 | 0.43 | 23 | 0.063 | 19 | 0.81 | 7 |\n",
       "| 74 | 0.36 | 0.30 | 18 | 0.074 | 24 | 0.70 | 8 |\n",
       "|  7 | 0.56 | 0.17 | 17 | 0.065 | 24 | 0.68 | 7 |\n",
       "\n"
      ],
      "text/plain": [
       "     fixed.acidity volatile.acidity citric.acid residual.sugar chlorides\n",
       "1    74            0.70             0.00        19             0.076    \n",
       "2    78            0.88             0.00        26             0.098    \n",
       "3    78            0.76             0.04        23             0.092    \n",
       "⋮    ⋮             ⋮                ⋮           ⋮              ⋮        \n",
       "1196 84            0.37             0.43        23             0.063    \n",
       "1197 74            0.36             0.30        18             0.074    \n",
       "1198  7            0.56             0.17        17             0.065    \n",
       "     total.sulfur.dioxide sulphates quality\n",
       "1    34                   0.56      5      \n",
       "2    67                   0.68      5      \n",
       "3    54                   0.65      5      \n",
       "⋮    ⋮                    ⋮         ⋮      \n",
       "1196 19                   0.81      7      \n",
       "1197 24                   0.70      8      \n",
       "1198 24                   0.68      7      "
      ]
     },
     "metadata": {},
     "output_type": "display_data"
    }
   ],
   "source": [
    "wine_split <- initial_split(wine_red, prop = 0.75, strata = quality)\n",
    "wine_train <- training(wine_split)\n",
    "wine_test <- testing(wine_split)\n",
    "\n",
    "wine_train"
   ]
  },
  {
   "cell_type": "markdown",
   "id": "7c01e412-9717-4884-b964-8c8e831a6872",
   "metadata": {},
   "source": [
    "**1.**\n",
    "Checking how many NA values are present in each column using the `apply()` function. "
   ]
  },
  {
   "cell_type": "code",
   "execution_count": 120,
   "id": "7048d3b7-84db-446f-ad2a-05c56d55597f",
   "metadata": {},
   "outputs": [
    {
     "data": {
      "text/html": [
       "<style>\n",
       ".dl-inline {width: auto; margin:0; padding: 0}\n",
       ".dl-inline>dt, .dl-inline>dd {float: none; width: auto; display: inline-block}\n",
       ".dl-inline>dt::after {content: \":\\0020\"; padding-right: .5ex}\n",
       ".dl-inline>dt:not(:first-of-type) {padding-left: .5ex}\n",
       "</style><dl class=dl-inline><dt>fixed.acidity</dt><dd>0</dd><dt>volatile.acidity</dt><dd>0</dd><dt>citric.acid</dt><dd>0</dd><dt>residual.sugar</dt><dd>0</dd><dt>chlorides</dt><dd>0</dd><dt>total.sulfur.dioxide</dt><dd>2</dd><dt>sulphates</dt><dd>0</dd><dt>quality</dt><dd>0</dd></dl>\n"
      ],
      "text/latex": [
       "\\begin{description*}\n",
       "\\item[fixed.acidity] 0\n",
       "\\item[volatile.acidity] 0\n",
       "\\item[citric.acid] 0\n",
       "\\item[residual.sugar] 0\n",
       "\\item[chlorides] 0\n",
       "\\item[total.sulfur.dioxide] 2\n",
       "\\item[sulphates] 0\n",
       "\\item[quality] 0\n",
       "\\end{description*}\n"
      ],
      "text/markdown": [
       "fixed.acidity\n",
       ":   0volatile.acidity\n",
       ":   0citric.acid\n",
       ":   0residual.sugar\n",
       ":   0chlorides\n",
       ":   0total.sulfur.dioxide\n",
       ":   2sulphates\n",
       ":   0quality\n",
       ":   0\n",
       "\n"
      ],
      "text/plain": [
       "       fixed.acidity     volatile.acidity          citric.acid \n",
       "                   0                    0                    0 \n",
       "      residual.sugar            chlorides total.sulfur.dioxide \n",
       "                   0                    0                    2 \n",
       "           sulphates              quality \n",
       "                   0                    0 "
      ]
     },
     "metadata": {},
     "output_type": "display_data"
    }
   ],
   "source": [
    "apply(X = is.na(wine_train), MARGIN = 2, FUN = sum)"
   ]
  },
  {
   "cell_type": "markdown",
   "id": "be48a438-3bae-4192-b374-57b859203fdc",
   "metadata": {},
   "source": [
    "Since there are no NA values in any of the columns, it is clear that all columns have 1198 rows of observations."
   ]
  },
  {
   "cell_type": "markdown",
   "id": "eaedb319-7db1-422f-be42-adfc996e5a50",
   "metadata": {},
   "source": [
    "**2.**\n",
    "Summarizing the means and ranges of all variables using `summarize()` and `map_df()`."
   ]
  },
  {
   "cell_type": "code",
   "execution_count": 122,
   "id": "ab67e2f7-37ba-4da0-b6ff-c51dfdee1388",
   "metadata": {},
   "outputs": [
    {
     "data": {
      "text/html": [
       "<table class=\"dataframe\">\n",
       "<caption>A tibble: 1 × 7</caption>\n",
       "<thead>\n",
       "\t<tr><th scope=col>fixed.acidity</th><th scope=col>volatile.acidity</th><th scope=col>citric.acid</th><th scope=col>residual.sugar</th><th scope=col>chlorides</th><th scope=col>total.sulfur.dioxide</th><th scope=col>sulphates</th></tr>\n",
       "\t<tr><th scope=col>&lt;dbl&gt;</th><th scope=col>&lt;dbl&gt;</th><th scope=col>&lt;dbl&gt;</th><th scope=col>&lt;dbl&gt;</th><th scope=col>&lt;dbl&gt;</th><th scope=col>&lt;dbl&gt;</th><th scope=col>&lt;dbl&gt;</th></tr>\n",
       "</thead>\n",
       "<tbody>\n",
       "\t<tr><td>75.16361</td><td>0.5278631</td><td>0.2723289</td><td>26.18114</td><td>0.08748998</td><td>NA</td><td>0.6563523</td></tr>\n",
       "</tbody>\n",
       "</table>\n"
      ],
      "text/latex": [
       "A tibble: 1 × 7\n",
       "\\begin{tabular}{lllllll}\n",
       " fixed.acidity & volatile.acidity & citric.acid & residual.sugar & chlorides & total.sulfur.dioxide & sulphates\\\\\n",
       " <dbl> & <dbl> & <dbl> & <dbl> & <dbl> & <dbl> & <dbl>\\\\\n",
       "\\hline\n",
       "\t 75.16361 & 0.5278631 & 0.2723289 & 26.18114 & 0.08748998 & NA & 0.6563523\\\\\n",
       "\\end{tabular}\n"
      ],
      "text/markdown": [
       "\n",
       "A tibble: 1 × 7\n",
       "\n",
       "| fixed.acidity &lt;dbl&gt; | volatile.acidity &lt;dbl&gt; | citric.acid &lt;dbl&gt; | residual.sugar &lt;dbl&gt; | chlorides &lt;dbl&gt; | total.sulfur.dioxide &lt;dbl&gt; | sulphates &lt;dbl&gt; |\n",
       "|---|---|---|---|---|---|---|\n",
       "| 75.16361 | 0.5278631 | 0.2723289 | 26.18114 | 0.08748998 | NA | 0.6563523 |\n",
       "\n"
      ],
      "text/plain": [
       "  fixed.acidity volatile.acidity citric.acid residual.sugar chlorides \n",
       "1 75.16361      0.5278631        0.2723289   26.18114       0.08748998\n",
       "  total.sulfur.dioxide sulphates\n",
       "1 NA                   0.6563523"
      ]
     },
     "metadata": {},
     "output_type": "display_data"
    },
    {
     "data": {
      "text/html": [
       "<table class=\"dataframe\">\n",
       "<caption>A tibble: 2 × 7</caption>\n",
       "<thead>\n",
       "\t<tr><th scope=col>fixed.acidity</th><th scope=col>volatile.acidity</th><th scope=col>citric.acid</th><th scope=col>residual.sugar</th><th scope=col>chlorides</th><th scope=col>total.sulfur.dioxide</th><th scope=col>sulphates</th></tr>\n",
       "\t<tr><th scope=col>&lt;dbl&gt;</th><th scope=col>&lt;dbl&gt;</th><th scope=col>&lt;dbl&gt;</th><th scope=col>&lt;dbl&gt;</th><th scope=col>&lt;dbl&gt;</th><th scope=col>&lt;dbl&gt;</th><th scope=col>&lt;dbl&gt;</th></tr>\n",
       "</thead>\n",
       "<tbody>\n",
       "\t<tr><td>  5</td><td>0.12</td><td>0.00</td><td>  2</td><td>0.012</td><td>NA</td><td>0.33</td></tr>\n",
       "\t<tr><td>159</td><td>1.58</td><td>0.79</td><td>465</td><td>0.467</td><td>NA</td><td>1.98</td></tr>\n",
       "</tbody>\n",
       "</table>\n"
      ],
      "text/latex": [
       "A tibble: 2 × 7\n",
       "\\begin{tabular}{lllllll}\n",
       " fixed.acidity & volatile.acidity & citric.acid & residual.sugar & chlorides & total.sulfur.dioxide & sulphates\\\\\n",
       " <dbl> & <dbl> & <dbl> & <dbl> & <dbl> & <dbl> & <dbl>\\\\\n",
       "\\hline\n",
       "\t   5 & 0.12 & 0.00 &   2 & 0.012 & NA & 0.33\\\\\n",
       "\t 159 & 1.58 & 0.79 & 465 & 0.467 & NA & 1.98\\\\\n",
       "\\end{tabular}\n"
      ],
      "text/markdown": [
       "\n",
       "A tibble: 2 × 7\n",
       "\n",
       "| fixed.acidity &lt;dbl&gt; | volatile.acidity &lt;dbl&gt; | citric.acid &lt;dbl&gt; | residual.sugar &lt;dbl&gt; | chlorides &lt;dbl&gt; | total.sulfur.dioxide &lt;dbl&gt; | sulphates &lt;dbl&gt; |\n",
       "|---|---|---|---|---|---|---|\n",
       "|   5 | 0.12 | 0.00 |   2 | 0.012 | NA | 0.33 |\n",
       "| 159 | 1.58 | 0.79 | 465 | 0.467 | NA | 1.98 |\n",
       "\n"
      ],
      "text/plain": [
       "  fixed.acidity volatile.acidity citric.acid residual.sugar chlorides\n",
       "1   5           0.12             0.00          2            0.012    \n",
       "2 159           1.58             0.79        465            0.467    \n",
       "  total.sulfur.dioxide sulphates\n",
       "1 NA                   0.33     \n",
       "2 NA                   1.98     "
      ]
     },
     "metadata": {},
     "output_type": "display_data"
    }
   ],
   "source": [
    "# mean_summary <- summarize(wine_train, across(fixed.acidity:sulphates, mean))\n",
    "mean_summary <- wine_train |>\n",
    "                select(-quality) |>\n",
    "                map_df(mean)\n",
    "\n",
    "range_summary <- summarize(wine_train, across(fixed.acidity:sulphates, range))\n",
    "\n",
    "mean_summary\n",
    "range_summary"
   ]
  },
  {
   "cell_type": "markdown",
   "id": "5b80cbf3-8ffd-472b-91ae-f9690127d843",
   "metadata": {},
   "source": [
    "The range data gives us the minimum and maximum values for each column in the database."
   ]
  },
  {
   "cell_type": "markdown",
   "id": "3c28fb49-0cde-450a-9af7-5764cd554ad6",
   "metadata": {},
   "source": [
    "**3.**\n",
    "Finding out means of predictors that correspond to each level in the quality scale. This will help us later to check if our prediction of wine quality makes logical sense."
   ]
  },
  {
   "cell_type": "code",
   "execution_count": 123,
   "id": "d12c15b0-c8d7-4474-985b-0aca6a62eef7",
   "metadata": {},
   "outputs": [
    {
     "data": {
      "text/html": [
       "<table class=\"dataframe\">\n",
       "<caption>A tibble: 6 × 8</caption>\n",
       "<thead>\n",
       "\t<tr><th scope=col>quality</th><th scope=col>fixed.acidity</th><th scope=col>volatile.acidity</th><th scope=col>citric.acid</th><th scope=col>residual.sugar</th><th scope=col>chlorides</th><th scope=col>total.sulfur.dioxide</th><th scope=col>sulphates</th></tr>\n",
       "\t<tr><th scope=col>&lt;dbl&gt;</th><th scope=col>&lt;dbl&gt;</th><th scope=col>&lt;dbl&gt;</th><th scope=col>&lt;dbl&gt;</th><th scope=col>&lt;dbl&gt;</th><th scope=col>&lt;dbl&gt;</th><th scope=col>&lt;dbl&gt;</th><th scope=col>&lt;dbl&gt;</th></tr>\n",
       "</thead>\n",
       "<tbody>\n",
       "\t<tr><td>3</td><td>77.42857</td><td>0.9242857</td><td>0.0800000</td><td>25.42857</td><td>0.12200000</td><td>24.57143</td><td>0.5657143</td></tr>\n",
       "\t<tr><td>4</td><td>71.36842</td><td>0.7089474</td><td>0.1434211</td><td>26.34211</td><td>0.08084211</td><td>35.60526</td><td>0.5457895</td></tr>\n",
       "\t<tr><td>5</td><td>73.63158</td><td>0.5825536</td><td>0.2424951</td><td>27.11696</td><td>0.09351462</td><td>      NA</td><td>0.6225341</td></tr>\n",
       "\t<tr><td>6</td><td>74.99372</td><td>0.4937866</td><td>0.2789958</td><td>22.94142</td><td>0.08484728</td><td>40.69247</td><td>0.6733473</td></tr>\n",
       "\t<tr><td>7</td><td>81.41333</td><td>0.3964000</td><td>0.3794000</td><td>33.33333</td><td>0.07655333</td><td>34.46667</td><td>0.7414667</td></tr>\n",
       "\t<tr><td>8</td><td>80.00000</td><td>0.3858333</td><td>0.4641667</td><td>25.75000</td><td>0.07283333</td><td>25.00000</td><td>0.7641667</td></tr>\n",
       "</tbody>\n",
       "</table>\n"
      ],
      "text/latex": [
       "A tibble: 6 × 8\n",
       "\\begin{tabular}{llllllll}\n",
       " quality & fixed.acidity & volatile.acidity & citric.acid & residual.sugar & chlorides & total.sulfur.dioxide & sulphates\\\\\n",
       " <dbl> & <dbl> & <dbl> & <dbl> & <dbl> & <dbl> & <dbl> & <dbl>\\\\\n",
       "\\hline\n",
       "\t 3 & 77.42857 & 0.9242857 & 0.0800000 & 25.42857 & 0.12200000 & 24.57143 & 0.5657143\\\\\n",
       "\t 4 & 71.36842 & 0.7089474 & 0.1434211 & 26.34211 & 0.08084211 & 35.60526 & 0.5457895\\\\\n",
       "\t 5 & 73.63158 & 0.5825536 & 0.2424951 & 27.11696 & 0.09351462 &       NA & 0.6225341\\\\\n",
       "\t 6 & 74.99372 & 0.4937866 & 0.2789958 & 22.94142 & 0.08484728 & 40.69247 & 0.6733473\\\\\n",
       "\t 7 & 81.41333 & 0.3964000 & 0.3794000 & 33.33333 & 0.07655333 & 34.46667 & 0.7414667\\\\\n",
       "\t 8 & 80.00000 & 0.3858333 & 0.4641667 & 25.75000 & 0.07283333 & 25.00000 & 0.7641667\\\\\n",
       "\\end{tabular}\n"
      ],
      "text/markdown": [
       "\n",
       "A tibble: 6 × 8\n",
       "\n",
       "| quality &lt;dbl&gt; | fixed.acidity &lt;dbl&gt; | volatile.acidity &lt;dbl&gt; | citric.acid &lt;dbl&gt; | residual.sugar &lt;dbl&gt; | chlorides &lt;dbl&gt; | total.sulfur.dioxide &lt;dbl&gt; | sulphates &lt;dbl&gt; |\n",
       "|---|---|---|---|---|---|---|---|\n",
       "| 3 | 77.42857 | 0.9242857 | 0.0800000 | 25.42857 | 0.12200000 | 24.57143 | 0.5657143 |\n",
       "| 4 | 71.36842 | 0.7089474 | 0.1434211 | 26.34211 | 0.08084211 | 35.60526 | 0.5457895 |\n",
       "| 5 | 73.63158 | 0.5825536 | 0.2424951 | 27.11696 | 0.09351462 |       NA | 0.6225341 |\n",
       "| 6 | 74.99372 | 0.4937866 | 0.2789958 | 22.94142 | 0.08484728 | 40.69247 | 0.6733473 |\n",
       "| 7 | 81.41333 | 0.3964000 | 0.3794000 | 33.33333 | 0.07655333 | 34.46667 | 0.7414667 |\n",
       "| 8 | 80.00000 | 0.3858333 | 0.4641667 | 25.75000 | 0.07283333 | 25.00000 | 0.7641667 |\n",
       "\n"
      ],
      "text/plain": [
       "  quality fixed.acidity volatile.acidity citric.acid residual.sugar chlorides \n",
       "1 3       77.42857      0.9242857        0.0800000   25.42857       0.12200000\n",
       "2 4       71.36842      0.7089474        0.1434211   26.34211       0.08084211\n",
       "3 5       73.63158      0.5825536        0.2424951   27.11696       0.09351462\n",
       "4 6       74.99372      0.4937866        0.2789958   22.94142       0.08484728\n",
       "5 7       81.41333      0.3964000        0.3794000   33.33333       0.07655333\n",
       "6 8       80.00000      0.3858333        0.4641667   25.75000       0.07283333\n",
       "  total.sulfur.dioxide sulphates\n",
       "1 24.57143             0.5657143\n",
       "2 35.60526             0.5457895\n",
       "3       NA             0.6225341\n",
       "4 40.69247             0.6733473\n",
       "5 34.46667             0.7414667\n",
       "6 25.00000             0.7641667"
      ]
     },
     "metadata": {},
     "output_type": "display_data"
    }
   ],
   "source": [
    "group_by(wine_train, quality) |>\n",
    "        summarize(across(fixed.acidity:sulphates, mean))"
   ]
  },
  {
   "cell_type": "markdown",
   "id": "a6be3562-aee4-4feb-a0cb-6449cec1203d",
   "metadata": {},
   "source": [
    "From this table, we can see that a quality 4 wine for example corresponds to an average value of 23.5 in residual sugar."
   ]
  },
  {
   "cell_type": "markdown",
   "id": "120f1dac-d9e9-440f-9011-92e8a97f48aa",
   "metadata": {},
   "source": [
    "**4.**\n",
    "Finding overall summary of dataset using `summary()`."
   ]
  },
  {
   "cell_type": "code",
   "execution_count": 124,
   "id": "32f498e0-4c91-40eb-aa44-731e3e514d91",
   "metadata": {},
   "outputs": [
    {
     "data": {
      "text/plain": [
       " fixed.acidity    volatile.acidity  citric.acid     residual.sugar  \n",
       " Min.   :  5.00   Min.   :0.1200   Min.   :0.0000   Min.   :  2.00  \n",
       " 1st Qu.: 68.00   1st Qu.:0.3900   1st Qu.:0.1000   1st Qu.: 17.00  \n",
       " Median : 77.00   Median :0.5200   Median :0.2600   Median : 22.00  \n",
       " Mean   : 75.16   Mean   :0.5279   Mean   :0.2723   Mean   : 26.18  \n",
       " 3rd Qu.: 91.00   3rd Qu.:0.6400   3rd Qu.:0.4300   3rd Qu.: 26.00  \n",
       " Max.   :159.00   Max.   :1.5800   Max.   :0.7900   Max.   :465.00  \n",
       "                                                                    \n",
       "   chlorides       total.sulfur.dioxide   sulphates         quality     \n",
       " Min.   :0.01200   Min.   :  6.00       Min.   :0.3300   Min.   :3.000  \n",
       " 1st Qu.:0.07100   1st Qu.: 21.75       1st Qu.:0.5500   1st Qu.:5.000  \n",
       " Median :0.08000   Median : 37.00       Median :0.6200   Median :6.000  \n",
       " Mean   :0.08749   Mean   : 45.97       Mean   :0.6564   Mean   :5.636  \n",
       " 3rd Qu.:0.09100   3rd Qu.: 61.00       3rd Qu.:0.7300   3rd Qu.:6.000  \n",
       " Max.   :0.46700   Max.   :289.00       Max.   :1.9800   Max.   :8.000  \n",
       "                   NA's   :2                                            "
      ]
     },
     "metadata": {},
     "output_type": "display_data"
    }
   ],
   "source": [
    "summary(wine_train)"
   ]
  },
  {
   "cell_type": "markdown",
   "id": "c087e11c-3679-448a-b48f-97cb9b692b9c",
   "metadata": {
    "tags": []
   },
   "source": [
    "## Visualization"
   ]
  },
  {
   "cell_type": "code",
   "execution_count": null,
   "id": "ac645a17-d381-4c47-8488-1da6ee2eed62",
   "metadata": {},
   "outputs": [],
   "source": []
  },
  {
   "cell_type": "markdown",
   "id": "e7c5f273-c434-4206-82e0-d7ea1d228750",
   "metadata": {},
   "source": [
    "## Method\n",
    " We will conduct our data analysis by creating a histogram graph and individually assessing how each variable changes the quality of the wine. We will also be removing 4 columns that we believe have little to no change throughout all of the data. For example fixed acidity is always going to be fixed and as such will have no change. This means that it is completely useless to have an unchanging variable within our data. We will also be removing density, free and total sulfur dioxide as the difference in values is very small and as such will not have much of a noticeable impact on the quality of the wine. All 8 other columns that we will be using however all have significant impact upon the quality of the wine and as such it is extremely important to see how their variability changes the wine and which one has the biggest impact with the smallest change.\n",
    "One way that we will visualize the result is to make a histogram graph. On the y-axis we will have the quality of the wine on a 1-10 scale and on the x-axis we will have our other variable that it is being compared to i.e. residual sugar, sulphates, volatile acidity etc. This will allow us to have many graphs that show how each variable changes the overall quality of the wine.\n",
    "\n",
    "## Expected Outcomes and Significance\n",
    "1. **What do we expect to find?**\n",
    "\n",
    "We expect to find which variables have the biggest impact on the wine and whether or not certain variables are simply more impactful than others. It would also be interesting to see if a certain variable has a “breaking point” or a spot where the quality will sharply drop as soon as it hits that threshold. For example if after volatile hits 0.4 we see exponential change in the wine quality. Lastly, we would like to see what the ideal level of each variable is in order to achieve the perfect (or closest to it) vinho verde.\n",
    "\n",
    "2. **What impact could such findings have?**\n",
    "\n",
    "Determining wine quality can promote wine testing and ensure safety within not only wine sectors, but the overall food and beverage industry.  Being able to determine the quality of a commodity can inform consumers and motivate sellers to consistently improve their practice and uphold a certain standard of quality. Furthermore, the quality of wine can serve as a reflection of its contents, which provide an important insight as to whether the wine is safe to drink and follows food health and safety guidelines. \n",
    "\n",
    "3. **What future questions could this lead to?**\n",
    "\n",
    "Knowing which variables are more impactful and which ones need to be focused on more can be an important tool for winemakers in order to perfect their craft. If they know that pH is a particularly sensitive variable that quality shifts sharply with them a point can be made in order to focus on refining the winemaking process to ensure the stability of pH throughout. This can also be used the other way where knowing that certain variables can be compromised ex. citric acid then winemakers can focus less on making something that is super stable in its citric acid in favour of a process that increases/decreases the level of citric acid in order to perfect the level of pH and increase the quality of their wine. \n"
   ]
  },
  {
   "cell_type": "code",
   "execution_count": null,
   "id": "31b50ab8-9879-448d-bd19-b25b63ba7b4e",
   "metadata": {},
   "outputs": [],
   "source": []
  }
 ],
 "metadata": {
  "kernelspec": {
   "display_name": "R",
   "language": "R",
   "name": "ir"
  },
  "language_info": {
   "codemirror_mode": "r",
   "file_extension": ".r",
   "mimetype": "text/x-r-source",
   "name": "R",
   "pygments_lexer": "r",
   "version": "4.1.3"
  }
 },
 "nbformat": 4,
 "nbformat_minor": 5
}
