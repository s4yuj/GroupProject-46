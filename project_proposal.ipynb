{
 "cells": [
  {
   "cell_type": "markdown",
   "id": "f9ec6552-9137-486e-8e80-49c8225c8aa0",
   "metadata": {},
   "source": [
    "# Vinho Verde: Wine Quality Analysis"
   ]
  },
  {
   "cell_type": "markdown",
   "id": "ba989799-b6e2-4e66-8ac2-59f95181ac29",
   "metadata": {},
   "source": [
    "## Introduction\n",
    "\n",
    "Wine is an alcoholic beverage made from the fermentation of grape juice, with many factors determining its quality. Wine without any acidity is “flat”, hence a fixed acidity level. Volatile acidity is the measure of acetic acid in wine, if it is above a threshold the wine will taste sour, citric acid enhances the flavour, residual sugar in wine is leftover sugar from grapes; higher sugar levels increase sweetness, and chloride contributes to saltiness in wine. \n",
    "\n",
    "**The main question we are answering is: What produces the highest quality of wine given our predictors, (VA, citric acidity, residual sugar, chloride, sulfur dioxide, and sulphate)?**\n",
    "\n",
    "The dataset used is collected by Paulo Cortez, from the University of Minho in Portugal. He, along with A. Cerdeira, F. Almeida, T. Matos, and J. Reis, Viticulture Commission of the Vinho Verde Region(CVRVV), Porto, Portugal collected data about the Vinho Verde wines from Portugal. This dataset (from 2009) observes the physicochemical qualities of the wine (acidity, sulphates, etc.), and excludes grape type, wine brand, or other subjective qualities.\n",
    "\n",
    "**Citation:**\n",
    "\n",
    "P. Cortez, A. Cerdeira, F. Almeida, T. Matos, and J. Reis.\n",
    "Modeling wine preferences by data mining from physicochemical properties. In Decision Support Systems, Elsevier, 47(4):547-553, 2009"
   ]
  },
  {
   "cell_type": "markdown",
   "id": "19cc8157-7c97-4caf-89fd-9625b72fad06",
   "metadata": {},
   "source": [
    "## Preliminary exploratory data analysis"
   ]
  },
  {
   "cell_type": "code",
   "execution_count": 34,
   "id": "d2e1c0b6-e26c-4289-a56f-cfd72c7c685e",
   "metadata": {},
   "outputs": [],
   "source": [
    "library(tidyverse)\n",
    "library(digest)\n",
    "library(repr)\n",
    "library(tidymodels)\n",
    "library(cowplot)\n",
    "options(repr.matrix.max.rows = 4)\n",
    "set.seed(1)"
   ]
  },
  {
   "cell_type": "markdown",
   "id": "bbd05844-0a1c-47f1-b097-d65b095950c2",
   "metadata": {},
   "source": [
    "We use the `read_csv2()` function to read the file from the web."
   ]
  },
  {
   "cell_type": "code",
   "execution_count": 35,
   "id": "9e774255-ae37-45ee-9df2-8fb292e809a8",
   "metadata": {},
   "outputs": [
    {
     "name": "stderr",
     "output_type": "stream",
     "text": [
      "\u001b[36mℹ\u001b[39m Using \u001b[34m\u001b[34m\"','\"\u001b[34m\u001b[39m as decimal and \u001b[34m\u001b[34m\"'.'\"\u001b[34m\u001b[39m as grouping mark. Use `read_delim()` for more control.\n",
      "\n",
      "Warning message:\n",
      "“One or more parsing issues, see `problems()` for details”\n",
      "\u001b[1mRows: \u001b[22m\u001b[34m1599\u001b[39m \u001b[1mColumns: \u001b[22m\u001b[34m12\u001b[39m\n",
      "\u001b[36m──\u001b[39m \u001b[1mColumn specification\u001b[22m \u001b[36m────────────────────────────────────────────────────────\u001b[39m\n",
      "\u001b[1mDelimiter:\u001b[22m \";\"\n",
      "\u001b[31mchr\u001b[39m (5): volatile acidity, citric acid, chlorides, density, sulphates\n",
      "\u001b[32mdbl\u001b[39m (2): total sulfur dioxide, quality\n",
      "\n",
      "\u001b[36mℹ\u001b[39m Use `spec()` to retrieve the full column specification for this data.\n",
      "\u001b[36mℹ\u001b[39m Specify the column types or set `show_col_types = FALSE` to quiet this message.\n"
     ]
    }
   ],
   "source": [
    "url <- \"https://archive.ics.uci.edu/ml/machine-learning-databases/wine-quality/winequality-red.csv\"\n",
    "wine_red <- read_csv2(url)"
   ]
  },
  {
   "cell_type": "markdown",
   "id": "7fbb167a-0991-47c4-b53b-d18967d1c0dd",
   "metadata": {},
   "source": [
    "We clean the column names to remove spaces using `make.names`, then change the datatypes of columns to dbl using `mutate()` and `as.double()` and finally remove the columns we dont wish to use using `select()`."
   ]
  },
  {
   "cell_type": "code",
   "execution_count": 36,
   "id": "9a56bce4-dcf3-44aa-8c86-91719ec3d8e6",
   "metadata": {},
   "outputs": [
    {
     "data": {
      "text/html": [
       "<table class=\"dataframe\">\n",
       "<caption>A tibble: 1599 × 8</caption>\n",
       "<thead>\n",
       "\t<tr><th scope=col>fixed.acidity</th><th scope=col>volatile.acidity</th><th scope=col>citric.acid</th><th scope=col>residual.sugar</th><th scope=col>chlorides</th><th scope=col>free.sulfur.dioxide</th><th scope=col>sulphates</th><th scope=col>quality</th></tr>\n",
       "\t<tr><th scope=col>&lt;dbl&gt;</th><th scope=col>&lt;dbl&gt;</th><th scope=col>&lt;dbl&gt;</th><th scope=col>&lt;dbl&gt;</th><th scope=col>&lt;dbl&gt;</th><th scope=col>&lt;dbl&gt;</th><th scope=col>&lt;dbl&gt;</th><th scope=col>&lt;fct&gt;</th></tr>\n",
       "</thead>\n",
       "<tbody>\n",
       "\t<tr><td>74</td><td>0.70</td><td>0</td><td>19</td><td>0.076</td><td>11</td><td>0.56</td><td>5</td></tr>\n",
       "\t<tr><td>78</td><td>0.88</td><td>0</td><td>26</td><td>0.098</td><td>25</td><td>0.68</td><td>5</td></tr>\n",
       "\t<tr><td>⋮</td><td>⋮</td><td>⋮</td><td>⋮</td><td>⋮</td><td>⋮</td><td>⋮</td><td>⋮</td></tr>\n",
       "\t<tr><td>59</td><td>0.645</td><td>0.12</td><td> 2</td><td>0.075</td><td>32</td><td>0.71</td><td>5</td></tr>\n",
       "\t<tr><td> 6</td><td>0.310</td><td>0.47</td><td>36</td><td>0.067</td><td>18</td><td>0.66</td><td>6</td></tr>\n",
       "</tbody>\n",
       "</table>\n"
      ],
      "text/latex": [
       "A tibble: 1599 × 8\n",
       "\\begin{tabular}{llllllll}\n",
       " fixed.acidity & volatile.acidity & citric.acid & residual.sugar & chlorides & free.sulfur.dioxide & sulphates & quality\\\\\n",
       " <dbl> & <dbl> & <dbl> & <dbl> & <dbl> & <dbl> & <dbl> & <fct>\\\\\n",
       "\\hline\n",
       "\t 74 & 0.70 & 0 & 19 & 0.076 & 11 & 0.56 & 5\\\\\n",
       "\t 78 & 0.88 & 0 & 26 & 0.098 & 25 & 0.68 & 5\\\\\n",
       "\t ⋮ & ⋮ & ⋮ & ⋮ & ⋮ & ⋮ & ⋮ & ⋮\\\\\n",
       "\t 59 & 0.645 & 0.12 &  2 & 0.075 & 32 & 0.71 & 5\\\\\n",
       "\t  6 & 0.310 & 0.47 & 36 & 0.067 & 18 & 0.66 & 6\\\\\n",
       "\\end{tabular}\n"
      ],
      "text/markdown": [
       "\n",
       "A tibble: 1599 × 8\n",
       "\n",
       "| fixed.acidity &lt;dbl&gt; | volatile.acidity &lt;dbl&gt; | citric.acid &lt;dbl&gt; | residual.sugar &lt;dbl&gt; | chlorides &lt;dbl&gt; | free.sulfur.dioxide &lt;dbl&gt; | sulphates &lt;dbl&gt; | quality &lt;fct&gt; |\n",
       "|---|---|---|---|---|---|---|---|\n",
       "| 74 | 0.70 | 0 | 19 | 0.076 | 11 | 0.56 | 5 |\n",
       "| 78 | 0.88 | 0 | 26 | 0.098 | 25 | 0.68 | 5 |\n",
       "| ⋮ | ⋮ | ⋮ | ⋮ | ⋮ | ⋮ | ⋮ | ⋮ |\n",
       "| 59 | 0.645 | 0.12 |  2 | 0.075 | 32 | 0.71 | 5 |\n",
       "|  6 | 0.310 | 0.47 | 36 | 0.067 | 18 | 0.66 | 6 |\n",
       "\n"
      ],
      "text/plain": [
       "     fixed.acidity volatile.acidity citric.acid residual.sugar chlorides\n",
       "1    74            0.70             0           19             0.076    \n",
       "2    78            0.88             0           26             0.098    \n",
       "⋮    ⋮             ⋮                ⋮           ⋮              ⋮        \n",
       "1598 59            0.645            0.12         2             0.075    \n",
       "1599  6            0.310            0.47        36             0.067    \n",
       "     free.sulfur.dioxide sulphates quality\n",
       "1    11                  0.56      5      \n",
       "2    25                  0.68      5      \n",
       "⋮    ⋮                   ⋮         ⋮      \n",
       "1598 32                  0.71      5      \n",
       "1599 18                  0.66      6      "
      ]
     },
     "metadata": {},
     "output_type": "display_data"
    }
   ],
   "source": [
    "colnames(wine_red) <- make.names(colnames(wine_red))\n",
    "\n",
    "wine_red <- wine_red |>\n",
    "            mutate(across(fixed.acidity:sulphates, as.double), quality = as.factor(quality)) |>\n",
    "            select(-total.sulfur.dioxide, -pH, -alcohol, -density)\n",
    "\n",
    "wine_red"
   ]
  },
  {
   "cell_type": "markdown",
   "id": "2a0bbf6e-4f24-457c-8096-8b18eb5ac5c2",
   "metadata": {},
   "source": [
    "Splitting the dataset into training and testing sets."
   ]
  },
  {
   "cell_type": "code",
   "execution_count": 37,
   "id": "d311d080-94dd-4b03-9f09-2f41d618d187",
   "metadata": {},
   "outputs": [
    {
     "data": {
      "text/html": [
       "<table class=\"dataframe\">\n",
       "<caption>A tibble: 1197 × 8</caption>\n",
       "<thead>\n",
       "\t<tr><th scope=col>fixed.acidity</th><th scope=col>volatile.acidity</th><th scope=col>citric.acid</th><th scope=col>residual.sugar</th><th scope=col>chlorides</th><th scope=col>free.sulfur.dioxide</th><th scope=col>sulphates</th><th scope=col>quality</th></tr>\n",
       "\t<tr><th scope=col>&lt;dbl&gt;</th><th scope=col>&lt;dbl&gt;</th><th scope=col>&lt;dbl&gt;</th><th scope=col>&lt;dbl&gt;</th><th scope=col>&lt;dbl&gt;</th><th scope=col>&lt;dbl&gt;</th><th scope=col>&lt;dbl&gt;</th><th scope=col>&lt;fct&gt;</th></tr>\n",
       "</thead>\n",
       "<tbody>\n",
       "\t<tr><td>74</td><td>0.70</td><td>0</td><td>19</td><td>0.076</td><td>11</td><td>0.56</td><td>5</td></tr>\n",
       "\t<tr><td>78</td><td>0.88</td><td>0</td><td>26</td><td>0.098</td><td>25</td><td>0.68</td><td>5</td></tr>\n",
       "\t<tr><td>⋮</td><td>⋮</td><td>⋮</td><td>⋮</td><td>⋮</td><td>⋮</td><td>⋮</td><td>⋮</td></tr>\n",
       "\t<tr><td>84</td><td>0.37</td><td>0.43</td><td>23</td><td>0.063</td><td>12</td><td>0.81</td><td>7</td></tr>\n",
       "\t<tr><td> 7</td><td>0.56</td><td>0.17</td><td>17</td><td>0.065</td><td>15</td><td>0.68</td><td>7</td></tr>\n",
       "</tbody>\n",
       "</table>\n"
      ],
      "text/latex": [
       "A tibble: 1197 × 8\n",
       "\\begin{tabular}{llllllll}\n",
       " fixed.acidity & volatile.acidity & citric.acid & residual.sugar & chlorides & free.sulfur.dioxide & sulphates & quality\\\\\n",
       " <dbl> & <dbl> & <dbl> & <dbl> & <dbl> & <dbl> & <dbl> & <fct>\\\\\n",
       "\\hline\n",
       "\t 74 & 0.70 & 0 & 19 & 0.076 & 11 & 0.56 & 5\\\\\n",
       "\t 78 & 0.88 & 0 & 26 & 0.098 & 25 & 0.68 & 5\\\\\n",
       "\t ⋮ & ⋮ & ⋮ & ⋮ & ⋮ & ⋮ & ⋮ & ⋮\\\\\n",
       "\t 84 & 0.37 & 0.43 & 23 & 0.063 & 12 & 0.81 & 7\\\\\n",
       "\t  7 & 0.56 & 0.17 & 17 & 0.065 & 15 & 0.68 & 7\\\\\n",
       "\\end{tabular}\n"
      ],
      "text/markdown": [
       "\n",
       "A tibble: 1197 × 8\n",
       "\n",
       "| fixed.acidity &lt;dbl&gt; | volatile.acidity &lt;dbl&gt; | citric.acid &lt;dbl&gt; | residual.sugar &lt;dbl&gt; | chlorides &lt;dbl&gt; | free.sulfur.dioxide &lt;dbl&gt; | sulphates &lt;dbl&gt; | quality &lt;fct&gt; |\n",
       "|---|---|---|---|---|---|---|---|\n",
       "| 74 | 0.70 | 0 | 19 | 0.076 | 11 | 0.56 | 5 |\n",
       "| 78 | 0.88 | 0 | 26 | 0.098 | 25 | 0.68 | 5 |\n",
       "| ⋮ | ⋮ | ⋮ | ⋮ | ⋮ | ⋮ | ⋮ | ⋮ |\n",
       "| 84 | 0.37 | 0.43 | 23 | 0.063 | 12 | 0.81 | 7 |\n",
       "|  7 | 0.56 | 0.17 | 17 | 0.065 | 15 | 0.68 | 7 |\n",
       "\n"
      ],
      "text/plain": [
       "     fixed.acidity volatile.acidity citric.acid residual.sugar chlorides\n",
       "1    74            0.70             0           19             0.076    \n",
       "2    78            0.88             0           26             0.098    \n",
       "⋮    ⋮             ⋮                ⋮           ⋮              ⋮        \n",
       "1196 84            0.37             0.43        23             0.063    \n",
       "1197  7            0.56             0.17        17             0.065    \n",
       "     free.sulfur.dioxide sulphates quality\n",
       "1    11                  0.56      5      \n",
       "2    25                  0.68      5      \n",
       "⋮    ⋮                   ⋮         ⋮      \n",
       "1196 12                  0.81      7      \n",
       "1197 15                  0.68      7      "
      ]
     },
     "metadata": {},
     "output_type": "display_data"
    }
   ],
   "source": [
    "wine_split <- initial_split(wine_red, prop = 0.75, strata = quality)\n",
    "wine_train <- training(wine_split)\n",
    "wine_test <- testing(wine_split)\n",
    "\n",
    "wine_train"
   ]
  },
  {
   "cell_type": "markdown",
   "id": "7c01e412-9717-4884-b964-8c8e831a6872",
   "metadata": {},
   "source": [
    "**1.**\n",
    "Checking how many NA values are present in each column using the `apply()` function. "
   ]
  },
  {
   "cell_type": "code",
   "execution_count": 38,
   "id": "7048d3b7-84db-446f-ad2a-05c56d55597f",
   "metadata": {},
   "outputs": [
    {
     "data": {
      "text/html": [
       "<style>\n",
       ".dl-inline {width: auto; margin:0; padding: 0}\n",
       ".dl-inline>dt, .dl-inline>dd {float: none; width: auto; display: inline-block}\n",
       ".dl-inline>dt::after {content: \":\\0020\"; padding-right: .5ex}\n",
       ".dl-inline>dt:not(:first-of-type) {padding-left: .5ex}\n",
       "</style><dl class=dl-inline><dt>fixed.acidity</dt><dd>0</dd><dt>volatile.acidity</dt><dd>0</dd><dt>citric.acid</dt><dd>0</dd><dt>residual.sugar</dt><dd>0</dd><dt>chlorides</dt><dd>0</dd><dt>free.sulfur.dioxide</dt><dd>0</dd><dt>sulphates</dt><dd>0</dd><dt>quality</dt><dd>0</dd></dl>\n"
      ],
      "text/latex": [
       "\\begin{description*}\n",
       "\\item[fixed.acidity] 0\n",
       "\\item[volatile.acidity] 0\n",
       "\\item[citric.acid] 0\n",
       "\\item[residual.sugar] 0\n",
       "\\item[chlorides] 0\n",
       "\\item[free.sulfur.dioxide] 0\n",
       "\\item[sulphates] 0\n",
       "\\item[quality] 0\n",
       "\\end{description*}\n"
      ],
      "text/markdown": [
       "fixed.acidity\n",
       ":   0volatile.acidity\n",
       ":   0citric.acid\n",
       ":   0residual.sugar\n",
       ":   0chlorides\n",
       ":   0free.sulfur.dioxide\n",
       ":   0sulphates\n",
       ":   0quality\n",
       ":   0\n",
       "\n"
      ],
      "text/plain": [
       "      fixed.acidity    volatile.acidity         citric.acid      residual.sugar \n",
       "                  0                   0                   0                   0 \n",
       "          chlorides free.sulfur.dioxide           sulphates             quality \n",
       "                  0                   0                   0                   0 "
      ]
     },
     "metadata": {},
     "output_type": "display_data"
    }
   ],
   "source": [
    "apply(X = is.na(wine_train), MARGIN = 2, FUN = sum)"
   ]
  },
  {
   "cell_type": "markdown",
   "id": "be48a438-3bae-4192-b374-57b859203fdc",
   "metadata": {},
   "source": [
    "Since there are no NA values in any of the columns, it is clear that all columns have 1198 rows of observations."
   ]
  },
  {
   "cell_type": "markdown",
   "id": "eaedb319-7db1-422f-be42-adfc996e5a50",
   "metadata": {},
   "source": [
    "**2.**\n",
    "Summarizing the means and ranges of all variables using `summarize()` and `map_df()`."
   ]
  },
  {
   "cell_type": "code",
   "execution_count": 39,
   "id": "ab67e2f7-37ba-4da0-b6ff-c51dfdee1388",
   "metadata": {},
   "outputs": [
    {
     "data": {
      "text/html": [
       "<table class=\"dataframe\">\n",
       "<caption>A tibble: 1 × 7</caption>\n",
       "<thead>\n",
       "\t<tr><th scope=col>fixed.acidity</th><th scope=col>volatile.acidity</th><th scope=col>citric.acid</th><th scope=col>residual.sugar</th><th scope=col>chlorides</th><th scope=col>free.sulfur.dioxide</th><th scope=col>sulphates</th></tr>\n",
       "\t<tr><th scope=col>&lt;dbl&gt;</th><th scope=col>&lt;dbl&gt;</th><th scope=col>&lt;dbl&gt;</th><th scope=col>&lt;dbl&gt;</th><th scope=col>&lt;dbl&gt;</th><th scope=col>&lt;dbl&gt;</th><th scope=col>&lt;dbl&gt;</th></tr>\n",
       "</thead>\n",
       "<tbody>\n",
       "\t<tr><td>75.00334</td><td>0.5289808</td><td>0.2705931</td><td>27.06015</td><td>0.08682038</td><td>16.82122</td><td>0.6557393</td></tr>\n",
       "</tbody>\n",
       "</table>\n"
      ],
      "text/latex": [
       "A tibble: 1 × 7\n",
       "\\begin{tabular}{lllllll}\n",
       " fixed.acidity & volatile.acidity & citric.acid & residual.sugar & chlorides & free.sulfur.dioxide & sulphates\\\\\n",
       " <dbl> & <dbl> & <dbl> & <dbl> & <dbl> & <dbl> & <dbl>\\\\\n",
       "\\hline\n",
       "\t 75.00334 & 0.5289808 & 0.2705931 & 27.06015 & 0.08682038 & 16.82122 & 0.6557393\\\\\n",
       "\\end{tabular}\n"
      ],
      "text/markdown": [
       "\n",
       "A tibble: 1 × 7\n",
       "\n",
       "| fixed.acidity &lt;dbl&gt; | volatile.acidity &lt;dbl&gt; | citric.acid &lt;dbl&gt; | residual.sugar &lt;dbl&gt; | chlorides &lt;dbl&gt; | free.sulfur.dioxide &lt;dbl&gt; | sulphates &lt;dbl&gt; |\n",
       "|---|---|---|---|---|---|---|\n",
       "| 75.00334 | 0.5289808 | 0.2705931 | 27.06015 | 0.08682038 | 16.82122 | 0.6557393 |\n",
       "\n"
      ],
      "text/plain": [
       "  fixed.acidity volatile.acidity citric.acid residual.sugar chlorides \n",
       "1 75.00334      0.5289808        0.2705931   27.06015       0.08682038\n",
       "  free.sulfur.dioxide sulphates\n",
       "1 16.82122            0.6557393"
      ]
     },
     "metadata": {},
     "output_type": "display_data"
    },
    {
     "data": {
      "text/html": [
       "<table class=\"dataframe\">\n",
       "<caption>A tibble: 2 × 7</caption>\n",
       "<thead>\n",
       "\t<tr><th scope=col>fixed.acidity</th><th scope=col>volatile.acidity</th><th scope=col>citric.acid</th><th scope=col>residual.sugar</th><th scope=col>chlorides</th><th scope=col>free.sulfur.dioxide</th><th scope=col>sulphates</th></tr>\n",
       "\t<tr><th scope=col>&lt;dbl&gt;</th><th scope=col>&lt;dbl&gt;</th><th scope=col>&lt;dbl&gt;</th><th scope=col>&lt;dbl&gt;</th><th scope=col>&lt;dbl&gt;</th><th scope=col>&lt;dbl&gt;</th><th scope=col>&lt;dbl&gt;</th></tr>\n",
       "</thead>\n",
       "<tbody>\n",
       "\t<tr><td>  5</td><td>0.12</td><td>0</td><td>  2</td><td>0.012</td><td>  1</td><td>0.33</td></tr>\n",
       "\t<tr><td>159</td><td>1.58</td><td>1</td><td>655</td><td>0.611</td><td>405</td><td>2.00</td></tr>\n",
       "</tbody>\n",
       "</table>\n"
      ],
      "text/latex": [
       "A tibble: 2 × 7\n",
       "\\begin{tabular}{lllllll}\n",
       " fixed.acidity & volatile.acidity & citric.acid & residual.sugar & chlorides & free.sulfur.dioxide & sulphates\\\\\n",
       " <dbl> & <dbl> & <dbl> & <dbl> & <dbl> & <dbl> & <dbl>\\\\\n",
       "\\hline\n",
       "\t   5 & 0.12 & 0 &   2 & 0.012 &   1 & 0.33\\\\\n",
       "\t 159 & 1.58 & 1 & 655 & 0.611 & 405 & 2.00\\\\\n",
       "\\end{tabular}\n"
      ],
      "text/markdown": [
       "\n",
       "A tibble: 2 × 7\n",
       "\n",
       "| fixed.acidity &lt;dbl&gt; | volatile.acidity &lt;dbl&gt; | citric.acid &lt;dbl&gt; | residual.sugar &lt;dbl&gt; | chlorides &lt;dbl&gt; | free.sulfur.dioxide &lt;dbl&gt; | sulphates &lt;dbl&gt; |\n",
       "|---|---|---|---|---|---|---|\n",
       "|   5 | 0.12 | 0 |   2 | 0.012 |   1 | 0.33 |\n",
       "| 159 | 1.58 | 1 | 655 | 0.611 | 405 | 2.00 |\n",
       "\n"
      ],
      "text/plain": [
       "  fixed.acidity volatile.acidity citric.acid residual.sugar chlorides\n",
       "1   5           0.12             0             2            0.012    \n",
       "2 159           1.58             1           655            0.611    \n",
       "  free.sulfur.dioxide sulphates\n",
       "1   1                 0.33     \n",
       "2 405                 2.00     "
      ]
     },
     "metadata": {},
     "output_type": "display_data"
    }
   ],
   "source": [
    "# mean_summary <- summarize(wine_train, across(fixed.acidity:sulphates, mean))\n",
    "mean_summary <- wine_train |>\n",
    "                select(-quality) |>\n",
    "                map_df(mean)\n",
    "\n",
    "range_summary <- summarize(wine_train, across(fixed.acidity:sulphates, range))\n",
    "\n",
    "mean_summary\n",
    "range_summary"
   ]
  },
  {
   "cell_type": "markdown",
   "id": "5b80cbf3-8ffd-472b-91ae-f9690127d843",
   "metadata": {},
   "source": [
    "The range data gives us the minimum and maximum values for each column in the database."
   ]
  },
  {
   "cell_type": "markdown",
   "id": "3c28fb49-0cde-450a-9af7-5764cd554ad6",
   "metadata": {},
   "source": [
    "**3.**\n",
    "Finding out means of predictors that correspond to each level in the quality scale. This will help us later to check if our prediction of wine quality makes logical sense."
   ]
  },
  {
   "cell_type": "code",
   "execution_count": 40,
   "id": "d12c15b0-c8d7-4474-985b-0aca6a62eef7",
   "metadata": {},
   "outputs": [
    {
     "data": {
      "text/html": [
       "<table class=\"dataframe\">\n",
       "<caption>A tibble: 6 × 8</caption>\n",
       "<thead>\n",
       "\t<tr><th scope=col>quality</th><th scope=col>fixed.acidity</th><th scope=col>volatile.acidity</th><th scope=col>citric.acid</th><th scope=col>residual.sugar</th><th scope=col>chlorides</th><th scope=col>free.sulfur.dioxide</th><th scope=col>sulphates</th></tr>\n",
       "\t<tr><th scope=col>&lt;fct&gt;</th><th scope=col>&lt;dbl&gt;</th><th scope=col>&lt;dbl&gt;</th><th scope=col>&lt;dbl&gt;</th><th scope=col>&lt;dbl&gt;</th><th scope=col>&lt;dbl&gt;</th><th scope=col>&lt;dbl&gt;</th><th scope=col>&lt;dbl&gt;</th></tr>\n",
       "</thead>\n",
       "<tbody>\n",
       "\t<tr><td>3</td><td>78.42857</td><td>0.9850000</td><td>0.07714286</td><td>83.57143</td><td>0.12471429</td><td>12.71429</td><td>0.5528571</td></tr>\n",
       "\t<tr><td>4</td><td>71.31818</td><td>0.7055682</td><td>0.17727273</td><td>26.22727</td><td>0.09431818</td><td>11.40909</td><td>0.6113636</td></tr>\n",
       "\t<tr><td>⋮</td><td>⋮</td><td>⋮</td><td>⋮</td><td>⋮</td><td>⋮</td><td>⋮</td><td>⋮</td></tr>\n",
       "\t<tr><td>7</td><td>80.68456</td><td>0.406443</td><td>0.3695973</td><td>36.65101</td><td>0.07636242</td><td>18.71812</td><td>0.7351678</td></tr>\n",
       "\t<tr><td>8</td><td>75.35294</td><td>0.430000</td><td>0.3717647</td><td>23.88235</td><td>0.06823529</td><td>13.70588</td><td>0.7647059</td></tr>\n",
       "</tbody>\n",
       "</table>\n"
      ],
      "text/latex": [
       "A tibble: 6 × 8\n",
       "\\begin{tabular}{llllllll}\n",
       " quality & fixed.acidity & volatile.acidity & citric.acid & residual.sugar & chlorides & free.sulfur.dioxide & sulphates\\\\\n",
       " <fct> & <dbl> & <dbl> & <dbl> & <dbl> & <dbl> & <dbl> & <dbl>\\\\\n",
       "\\hline\n",
       "\t 3 & 78.42857 & 0.9850000 & 0.07714286 & 83.57143 & 0.12471429 & 12.71429 & 0.5528571\\\\\n",
       "\t 4 & 71.31818 & 0.7055682 & 0.17727273 & 26.22727 & 0.09431818 & 11.40909 & 0.6113636\\\\\n",
       "\t ⋮ & ⋮ & ⋮ & ⋮ & ⋮ & ⋮ & ⋮ & ⋮\\\\\n",
       "\t 7 & 80.68456 & 0.406443 & 0.3695973 & 36.65101 & 0.07636242 & 18.71812 & 0.7351678\\\\\n",
       "\t 8 & 75.35294 & 0.430000 & 0.3717647 & 23.88235 & 0.06823529 & 13.70588 & 0.7647059\\\\\n",
       "\\end{tabular}\n"
      ],
      "text/markdown": [
       "\n",
       "A tibble: 6 × 8\n",
       "\n",
       "| quality &lt;fct&gt; | fixed.acidity &lt;dbl&gt; | volatile.acidity &lt;dbl&gt; | citric.acid &lt;dbl&gt; | residual.sugar &lt;dbl&gt; | chlorides &lt;dbl&gt; | free.sulfur.dioxide &lt;dbl&gt; | sulphates &lt;dbl&gt; |\n",
       "|---|---|---|---|---|---|---|---|\n",
       "| 3 | 78.42857 | 0.9850000 | 0.07714286 | 83.57143 | 0.12471429 | 12.71429 | 0.5528571 |\n",
       "| 4 | 71.31818 | 0.7055682 | 0.17727273 | 26.22727 | 0.09431818 | 11.40909 | 0.6113636 |\n",
       "| ⋮ | ⋮ | ⋮ | ⋮ | ⋮ | ⋮ | ⋮ | ⋮ |\n",
       "| 7 | 80.68456 | 0.406443 | 0.3695973 | 36.65101 | 0.07636242 | 18.71812 | 0.7351678 |\n",
       "| 8 | 75.35294 | 0.430000 | 0.3717647 | 23.88235 | 0.06823529 | 13.70588 | 0.7647059 |\n",
       "\n"
      ],
      "text/plain": [
       "  quality fixed.acidity volatile.acidity citric.acid residual.sugar chlorides \n",
       "1 3       78.42857      0.9850000        0.07714286  83.57143       0.12471429\n",
       "2 4       71.31818      0.7055682        0.17727273  26.22727       0.09431818\n",
       "⋮ ⋮       ⋮             ⋮                ⋮           ⋮              ⋮         \n",
       "5 7       80.68456      0.406443         0.3695973   36.65101       0.07636242\n",
       "6 8       75.35294      0.430000         0.3717647   23.88235       0.06823529\n",
       "  free.sulfur.dioxide sulphates\n",
       "1 12.71429            0.5528571\n",
       "2 11.40909            0.6113636\n",
       "⋮ ⋮                   ⋮        \n",
       "5 18.71812            0.7351678\n",
       "6 13.70588            0.7647059"
      ]
     },
     "metadata": {},
     "output_type": "display_data"
    }
   ],
   "source": [
    "group_by(wine_train, quality) |>\n",
    "        summarize(across(fixed.acidity:sulphates, mean))"
   ]
  },
  {
   "cell_type": "markdown",
   "id": "a6be3562-aee4-4feb-a0cb-6449cec1203d",
   "metadata": {},
   "source": [
    "From this table, we can see that a quality 4 wine for example corresponds to an average value of 23.5 in residual sugar."
   ]
  },
  {
   "cell_type": "markdown",
   "id": "120f1dac-d9e9-440f-9011-92e8a97f48aa",
   "metadata": {},
   "source": [
    "**4.**\n",
    "Finding overall summary of dataset using `summary()`."
   ]
  },
  {
   "cell_type": "code",
   "execution_count": 41,
   "id": "32f498e0-4c91-40eb-aa44-731e3e514d91",
   "metadata": {},
   "outputs": [
    {
     "data": {
      "text/plain": [
       " fixed.acidity volatile.acidity  citric.acid     residual.sugar  \n",
       " Min.   :  5   Min.   :0.120    Min.   :0.0000   Min.   :  2.00  \n",
       " 1st Qu.: 68   1st Qu.:0.390    1st Qu.:0.0900   1st Qu.: 17.00  \n",
       " Median : 77   Median :0.520    Median :0.2600   Median : 21.00  \n",
       " Mean   : 75   Mean   :0.529    Mean   :0.2706   Mean   : 27.06  \n",
       " 3rd Qu.: 89   3rd Qu.:0.640    3rd Qu.:0.4200   3rd Qu.: 26.00  \n",
       " Max.   :159   Max.   :1.580    Max.   :1.0000   Max.   :655.00  \n",
       "   chlorides       free.sulfur.dioxide   sulphates      quality\n",
       " Min.   :0.01200   Min.   :  1.00      Min.   :0.3300   3:  7  \n",
       " 1st Qu.:0.07000   1st Qu.:  7.00      1st Qu.:0.5500   4: 44  \n",
       " Median :0.07900   Median : 14.00      Median :0.6200   5:507  \n",
       " Mean   :0.08682   Mean   : 16.82      Mean   :0.6557   6:473  \n",
       " 3rd Qu.:0.09000   3rd Qu.: 22.00      3rd Qu.:0.7300   7:149  \n",
       " Max.   :0.61100   Max.   :405.00      Max.   :2.0000   8: 17  "
      ]
     },
     "metadata": {},
     "output_type": "display_data"
    }
   ],
   "source": [
    "summary(wine_train)"
   ]
  },
  {
   "cell_type": "markdown",
   "id": "c087e11c-3679-448a-b48f-97cb9b692b9c",
   "metadata": {
    "tags": []
   },
   "source": [
    "## Visualization"
   ]
  },
  {
   "cell_type": "markdown",
   "id": "82d85668-bd6f-4df3-81a5-20cff4a108e7",
   "metadata": {},
   "source": [
    "We use the `ggplot` function to graph how each variable contributes to each quality. \n",
    "Then we used `plot_grid` function to group each graph together to help us better visualize and compare our data set. "
   ]
  },
  {
   "cell_type": "code",
   "execution_count": 66,
   "id": "ac645a17-d381-4c47-8488-1da6ee2eed62",
   "metadata": {},
   "outputs": [
    {
     "name": "stderr",
     "output_type": "stream",
     "text": [
      "Warning message:\n",
      "“Ignoring unknown parameters: binwidth, bins, pad”\n",
      "Warning message:\n",
      "“Ignoring unknown parameters: binwidth, bins, pad”\n",
      "Warning message:\n",
      "“Ignoring unknown parameters: binwidth, bins, pad”\n",
      "Warning message:\n",
      "“Ignoring unknown parameters: binwidth, bins, pad”\n",
      "Warning message:\n",
      "“Ignoring unknown parameters: binwidth, bins, pad”\n",
      "Warning message:\n",
      "“Ignoring unknown parameters: binwidth, bins, pad”\n",
      "Warning message:\n",
      "“Ignoring unknown parameters: binwidth, bins, pad”\n"
     ]
    },
    {
     "data": {
      "image/png": "[encoded data removed]",
      "text/plain": [
       "plot without title"
      ]
     },
     "metadata": {
      "image/png": {
       "height": 600,
       "width": 1200
      }
     },
     "output_type": "display_data"
    }
   ],
   "source": [
    "options(repr.plot.height = 10, repr.plot.width = 20)\n",
    "\n",
    "fixed_acidity_plot <- ggplot(wine_train, aes(x = fixed.acidity, y = quality)) +\n",
    "                geom_histogram(stat = \"identity\") +\n",
    "                #facet_grid(rows = vars(quality))+\n",
    "                labs(x = \"Fixed Acidity\", y = \"Quality\") +\n",
    "                theme(text = element_text(size = 18)) +\n",
    "                coord_flip()\n",
    "\n",
    "volatile_acidity_plot <- ggplot(wine_train, aes(x = volatile.acidity, y = quality)) +\n",
    "                geom_histogram(stat = \"identity\") +\n",
    "                labs(x = \"Volatile Acidity\", y = \"Quality\") +\n",
    "                theme(text = element_text(size = 18)) +\n",
    "                coord_flip()\n",
    "\n",
    "citric_acid_plot <- ggplot(wine_train, aes(x = citric.acid, y = quality)) +\n",
    "                geom_histogram(stat = \"identity\") +\n",
    "                labs(x = \"Citric Acid\", y = \"Quality\") +\n",
    "                theme(text = element_text(size = 18)) +\n",
    "                coord_flip()\n",
    " \n",
    "residual_sugar_plot <- ggplot(wine_train, aes(x = residual.sugar, y = quality)) +\n",
    "                geom_histogram(stat = \"identity\") +\n",
    "                labs(x = \"Residual Sugar\", y = \"Quality\") +\n",
    "                theme(text = element_text(size = 18)) +\n",
    "                coord_flip()\n",
    "\n",
    "chlorides_plot <- ggplot(wine_train, aes(x = chlorides, y = quality)) +\n",
    "                geom_histogram(stat = \"identity\") +\n",
    "                labs(x = \"Chlorides\", y = \"Quality\") +\n",
    "                theme(text = element_text(size = 18)) +\n",
    "                coord_flip()\n",
    "\n",
    "free_sulfur_dioxide_plot <- ggplot(wine_train, aes(x = free.sulfur.dioxide, y = quality)) +\n",
    "                geom_histogram(stat = \"identity\") +\n",
    "                labs(x = \"Free Sulfur Dioxide\", y = \"Quality\") +\n",
    "                theme(text = element_text(size = 18)) +\n",
    "                coord_flip()\n",
    "\n",
    "sulphates_plot <- ggplot(wine_train, aes(x = sulphates, y = quality)) +\n",
    "                geom_histogram(stat = \"identity\") +\n",
    "                labs(x = \"Sulphates\", y = \"Quality\") +\n",
    "                theme(text = element_text(size = 18)) +\n",
    "                coord_flip()\n",
    "\n",
    "plot_grid(fixed_acidity_plot, volatile_acidity_plot, citric_acid_plot, residual_sugar_plot, chlorides_plot, free_sulfur_dioxide_plot, sulphates_plot,  \n",
    "          labels = c(\"A\", \"B\", \"C\", \"D\", \"E\", \"F\", \"G\"),\n",
    "          ncol = 4, nrow = 2)"
   ]
  },
  {
   "cell_type": "markdown",
   "id": "72a4a645-4098-4bf0-9c16-d75f0bca5929",
   "metadata": {},
   "source": [
    "From reading these graphs, we can collect many useful information regarding to how each variables changes the overall quality of the wine. For example, the fixed acidity plot shows us that wines with quality of 3 contains amount ranging from 70 to 120, while wines with quality of 4 ranges from 0 to 125, and so on. "
   ]
  },
  {
   "cell_type": "markdown",
   "id": "e7c5f273-c434-4206-82e0-d7ea1d228750",
   "metadata": {},
   "source": [
    "## Method\n",
    "We will create a scatterplot graph and assess how each variable changes the quality of wine, which has the biggest impact with the least change, then use classification to predict wine quality on a scale of 1-10. Columns with insignificant effect on the data (density, pH, alcohol, total sulfur dioxide) will be removed. Columns with significant impact (fixed acidity, volatile acidity, citric acid, residual sugar, sulfur dioxide, sulphates, and quality) will be kept. \n",
    "We will visualize the result to make another scatter plot graph. The y-axis will have the quality of the wine on a 1-10 scale and on the x-axis will have the other variable it is being compared to. This will provide several graphs visualizing each variable's impact on wine quality.\n",
    "\n",
    "## Expected Outcomes and Significance\n",
    "1. **What do we expect to find?**\n",
    "\n",
    "We expect to determine the ideal ratio of wine factors to achieve the highest quality of vinho verde, and which variables are more consequential in comparison to others. There may be a “breaking point” within a variable, (a spot where the quality will drastically change after a certain threshold). \n",
    "\n",
    "2. **What impact could such findings have?**\n",
    "\n",
    "Determining wine quality can promote wine testing and ensure safety within the food industry. It can inform consumers and motivate sellers to uphold a certain standard of quality. Furthermore, the quality of wine can serve as a reflection of its contents, which provides insight as to whether the wine is safe and follows food health and safety guidelines. \n",
    "\n",
    "3. **What future questions could this lead to?**\n",
    "\n",
    "There may be further research into the factors not in this dataset, and whether certain variables can be compromised. It can also lead to further questions like “How do we cost effectively make high quality wine”, or wine producing the most sales, etc. \n"
   ]
  },
  {
   "cell_type": "markdown",
   "id": "535a566c-7ec8-43a5-a5bf-c45675aad6a7",
   "metadata": {},
   "source": [
    "## The k-nearest-neighbors Classification Model"
   ]
  },
  {
   "cell_type": "markdown",
   "id": "d4bcb88b-357a-4719-9d13-81bb6bb43c15",
   "metadata": {},
   "source": [
    "1. Split the data\n",
    "2. Create the model\n",
    "3. Create the workflow\n",
    "4. train the model\n",
    "5. Test the model\n",
    "6. Improve the model (??)\n",
    "\n",
    "\n",
    "[need to include explanations between each step]"
   ]
  },
  {
   "cell_type": "markdown",
   "id": "6f97f92d-5925-4fe0-823d-dacbb2cab721",
   "metadata": {},
   "source": [
    "## Discussion\n",
    "\n",
    "- summarize what you found\n",
    "- discuss whether this is what you expected to find?\n",
    "- discuss what impact could such findings have?\n",
    "- discuss what future questions could this lead to?"
   ]
  },
  {
   "cell_type": "markdown",
   "id": "52e7c5ac-3d17-4da4-bfc8-6a6372b1991a",
   "metadata": {},
   "source": [
    "## References\n",
    "\n",
    "- At least 2 citations of literature relevant to the project (format is your choice, just be consistent across the references).\n",
    "- Make sure to cite the source of your data as well."
   ]
  },
  {
   "cell_type": "code",
   "execution_count": null,
   "id": "d2220eae-db86-4124-875b-fc289eb4ce92",
   "metadata": {},
   "outputs": [],
   "source": []
  }
 ],
 "metadata": {
  "kernelspec": {
   "display_name": "R",
   "language": "R",
   "name": "ir"
  },
  "language_info": {
   "codemirror_mode": "r",
   "file_extension": ".r",
   "mimetype": "text/x-r-source",
   "name": "R",
   "pygments_lexer": "r",
   "version": "4.1.3"
  }
 },
 "nbformat": 4,
 "nbformat_minor": 5
}
